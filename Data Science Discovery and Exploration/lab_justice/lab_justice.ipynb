{
 "cells": [
  {
   "cell_type": "markdown",
   "metadata": {},
   "source": [
    "# Lab: Justice ⚖️\n",
    "\n",
    "We plan on continuing to explore simulation in Python this week, however, this time, we're going to simulate some real-world events that have actually happened in the past.  The goal is for you to see how we can use data science to think about issues of equity and social justice.  As usual, in addition to coding, we want you to get practice having discussions about the data science you're doing and think about how data science can be a useful tool that can help you in your future job and as a citizen.\n",
    "\n",
    "**THIS LAB IS DIFFERENT**: We are looking at social issues in this lab, it's *very* important that you read through the text carefully. Understanding the context is crucial for success in lab_justice :)\n",
    "\n",
    "Let’s get started!\n",
    "\n",
    "## Group\n",
    "Edit the next Python cell to add information about who you're working within your lab section."
   ]
  },
  {
   "cell_type": "code",
   "execution_count": null,
   "metadata": {},
   "outputs": [],
   "source": [
    "# 1st, write down the names of your TAs and CAs\n",
    "ta_name = \"\"\n",
    "ca1_name = \"\"\n",
    "ca2_name = \"\"\n",
    "\n",
    "# Also, make sure to meet your team for this lab! Find out their name, what major they're in,\n",
    "# and learn something new about them that you never knew before!\n",
    "#\n",
    "# QOTD: Favorite Music Artist\n",
    "partner1_name = \"\"\n",
    "partner1_netid = \"\"\n",
    "partner1_fav_artist = \"\"\n",
    "\n",
    "partner2_name = \"\"\n",
    "partner2_netid = \"\"\n",
    "partner2_fav_artist = \"\"\n",
    "\n",
    "partner3_name = \"\"\n",
    "partner3_netid = \"\"\n",
    "partner3_fav_artist = \"\""
   ]
  },
  {
   "cell_type": "markdown",
   "metadata": {},
   "source": [
    "<hr style=\"color: #DD3403;\">"
   ]
  },
  {
   "cell_type": "markdown",
   "metadata": {},
   "source": [
    "# Puzzle 1: Jury Selection and Simulation\n",
    "\n",
    "The 6th Amendment to the U.S. Constitution provides the right to an “impartial jury” in criminal prosecutions, but what exactly does this mean? The Supreme Court has said that juries must be drawn from a representative cross-section of the community. In other words, juries should be randomly selected from the eligible population. However, there are many instances in history where it doesn’t seem like this was the case.\n",
    "\n",
    "Take for example, the case of Berghuis v. Smith.  In 1993, Smith (A Black man) was convicted of 2nd-degree murder by an all-white jury and sentenced to life in prison. The jury was selected from a panel of about 100 randomly selected people. Only 3 of them were Black and none of those 3 made it into the final 37 considered for Smith’s trial. The county population was approximately 8 percent Black at the time of the trial.  Remember, jury panels are supposed to be selected at random from the eligible population.\n",
    "\n",
    "## Puzzle 1.1: Your Initial Thoughts\n",
    "❓ **Group Discussion Question** ❓ Because 8% of the eligible population was Black, 3 Black people on a panel of 100 might seem low.  Does this difference (8% vs. 3%) seem big to you? Do you think this could be due to chance?\n",
    "\n",
    "❓ **Individual Reflection Question** ❓  Write a few sentences summarizing what your group members said during your discussion.  Did people think this difference could have been due to chance or not?"
   ]
  },
  {
   "cell_type": "markdown",
   "metadata": {},
   "source": [
    "Yes, it is a big difference, because 8 percent was eligible but only 3 was chosen. It is possible to be due by chance, but it is actually quite a large difference if you think about it. If 8 percent was eligible I feel like a number such as 5 or 6 percent would make more sense. I think that there was some bias which is why the percentage was so different."
   ]
  },
  {
   "cell_type": "markdown",
   "metadata": {},
   "source": [
    "This case was appealed and sent to the Supreme Court.  Some people claimed that the overall percentage disparity (Between 8% and 3%) was small and reflected no attempt to include or exclude a specified number of Black people from the jury.\" They claimed this \"small\" difference could simply be due to chance.  Critics and Smith claimed that the system of jury selection caused the lack of fair and reasonable representation of black people on the jury.\n",
    "\n",
    "## Puzzle 1.2: Writing a Function\n",
    "\n",
    "Let’s do a simulation in Python to understand what’s going on.  Write a simulation to show the expected distribution.  Remember, from the case: we're trying to see if the difference between 8% and 3% is small and reflects \"no attempt to include or exclude a specified number of African Americans.\"  In other words, **we want to write a function to randomly sample 100 people from a population that has 8% Black people.**  The function should return the number of Black people in each jury.  We can do this multiple times and see how rare it is to get 3 or fewer people in the jury. Write your function below and then we will do the simulation in Puzzle 1.3."
   ]
  },
  {
   "cell_type": "code",
   "execution_count": 4,
   "metadata": {},
   "outputs": [],
   "source": [
    "## Import any libraries you may need\n",
    "import random\n",
    "import pandas as pd"
   ]
  },
  {
   "cell_type": "code",
   "execution_count": 2,
   "metadata": {},
   "outputs": [],
   "source": [
    "## Write your function to simulate selecting a jury panel of size 100 from a population\n",
    "## with 8% Black people that counts the number of Black people selected\n",
    "\n",
    "def simulateJuryPanel():\n",
    "  count = 0\n",
    "  for i in range(100):\n",
    "    num = random.randint(1,100)\n",
    "    if num <= 8:\n",
    "      count += 1\n",
    "\n",
    "  return count"
   ]
  },
  {
   "cell_type": "markdown",
   "metadata": {},
   "source": [
    "## Puzzle 1.3: Storing the Results in a Data Frame\n",
    "\n",
    "Store the results in a DataFrame so we can analyze this.  Let’s start by doing this simulation 100 times.  In other words, we're simulating picking 100 juries.  Store the results in a DataFrame called `df`. \n",
    "\n",
    "**Simulate this 100 times and store the results in a DataFrame. The variable or column in the DataFrame should be named `panel`**"
   ]
  },
  {
   "cell_type": "code",
   "execution_count": 5,
   "metadata": {},
   "outputs": [],
   "source": [
    "## Write your simulation here\n",
    "data = []\n",
    "for i in range(100):\n",
    "    panel = simulateJuryPanel()\n",
    "    d = {\"panel\": panel}\n",
    "    data.append(d)\n",
    "\n",
    "df = pd.DataFrame(data)"
   ]
  },
  {
   "cell_type": "code",
   "execution_count": 6,
   "metadata": {},
   "outputs": [
    {
     "name": "stdout",
     "output_type": "stream",
     "text": [
      "🎉 All tests passed! 🎉\n"
     ]
    }
   ],
   "source": [
    "## == TEST CASES for Puzzle 1.3 ==\n",
    "# - This read-only cell contains test cases for your previous cell.\n",
    "# - If this cell runs with the success message as your output, you PASSED all test cases!\n",
    "# - If this cell results in any errors, check your previous cell, make changes, and RE-RUN your code and then this cell.\n",
    "\n",
    "assert(len(df) == 100), \"You need to apply your function to your DataFrame\"\n",
    "assert((df[\"panel\"].mean() >5) & (df[\"panel\"].mean() <10)), \"You may not have properly defined your simulation\"\n",
    "\n",
    "## == SUCCESS MESSAGE ==\n",
    "# You'll only see this message (With the emoji showing) if you passed all test cases:\n",
    "tada = \"\\N{PARTY POPPER}\"\n",
    "print(f\"{tada} All tests passed! {tada}\")"
   ]
  },
  {
   "cell_type": "markdown",
   "metadata": {},
   "source": [
    "## Puzzle 1.4: Create a histogram of your results\n",
    "\n",
    "Create a histogram of the results."
   ]
  },
  {
   "cell_type": "code",
   "execution_count": 10,
   "metadata": {},
   "outputs": [
    {
     "data": {
      "text/plain": [
       "array([[<AxesSubplot:title={'center':'panel'}>]], dtype=object)"
      ]
     },
     "execution_count": 10,
     "metadata": {},
     "output_type": "execute_result"
    },
    {
     "data": {
      "image/png": "[encoded data removed]",
      "text/plain": [
       "<Figure size 432x288 with 1 Axes>"
      ]
     },
     "metadata": {
      "needs_background": "light"
     },
     "output_type": "display_data"
    }
   ],
   "source": [
    "## Create your histogram here\n",
    "df.hist()"
   ]
  },
  {
   "cell_type": "markdown",
   "metadata": {},
   "source": [
    "## Puzzle 1.5: Reflection\n",
    "\n",
    "❓ **Group Discussion Question** ❓ Interpret the results of your histogram. How does your histogram provide evidence for or against the claim that the jury wasn't fair?  What does this tell us about this case?  Do you think this could have happened by chance?  If so, why? If not, why did some people claim it did?\n",
    "\n",
    "❓ **Individual Reflection Question** ❓ Write down the most interesting part of your group discussion."
   ]
  },
  {
   "cell_type": "markdown",
   "metadata": {},
   "source": [
    "The average amount of black people on each jury is about 8-10, which is far greater than 3. Three people on one panel did occur, but only a few times compared to the greater amounts of times for more on the panels. It is possible to have happened by chance, but it most likely didn't, probably because they didn't want to admit it was racially biased.\n",
    "\n",
    "That it was such a small chance for only 3 black people to be on a panel."
   ]
  },
  {
   "cell_type": "markdown",
   "metadata": {},
   "source": [
    "## Puzzle 1.6: What we observed vs. what we expected!\n",
    "\n",
    "❓ **Individual Reflection Question** ❓ What was the expected value for the number of Black people in the jury?  Enter your answer below.  "
   ]
  },
  {
   "cell_type": "markdown",
   "metadata": {},
   "source": [
    "*(✏️ Edit this cell to replace this text with your $EV$. ✏️)*\n",
    "\n",
    "EV = 8"
   ]
  },
  {
   "cell_type": "markdown",
   "metadata": {},
   "source": [
    "Next, calculate the mean of the DataFrame that you created from the simulation."
   ]
  },
  {
   "cell_type": "code",
   "execution_count": 11,
   "metadata": {},
   "outputs": [
    {
     "data": {
      "text/plain": [
       "8.54"
      ]
     },
     "execution_count": 11,
     "metadata": {},
     "output_type": "execute_result"
    }
   ],
   "source": [
    "## Calculate the average number of Black people in the jury\n",
    "\n",
    "mean= df.panel.mean()\n",
    "mean"
   ]
  },
  {
   "cell_type": "code",
   "execution_count": 12,
   "metadata": {},
   "outputs": [
    {
     "name": "stdout",
     "output_type": "stream",
     "text": [
      "🎉 All tests passed! 🎉\n"
     ]
    }
   ],
   "source": [
    "## == TEST CASES for Puzzle 1.6 ==\n",
    "# - This read-only cell contains test cases for your previous cell.\n",
    "# - If this cell runs with the success message as your output, you PASSED all test cases!\n",
    "# - If this cell results in any errors, check your previous cell, make changes, and RE-RUN your code and then this cell.\n",
    "\n",
    "assert(mean < 10), \"You didn't calculate the mean correctly!\"\n",
    "assert(mean > 5), \"You didn't calculate the mean correctly!\"\n",
    "\n",
    "## == SUCCESS MESSAGE ==\n",
    "# You'll only see this message (With the emoji showing) if you passed all test cases:\n",
    "tada = \"\\N{PARTY POPPER}\"\n",
    "print(f\"{tada} All tests passed! {tada}\")"
   ]
  },
  {
   "cell_type": "markdown",
   "metadata": {},
   "source": [
    "## Puzzle 1.7: Simulating the Event AGAIN!\n",
    "\n",
    "Run the simulation again, but this time for 10,000 people. Store this data in a DataFrame called `df2` and create a histogram of your results (You can copy and paste your previous code, no need to do everything again from scratch!).\n",
    "\n",
    "#### Part 1:"
   ]
  },
  {
   "cell_type": "code",
   "execution_count": 13,
   "metadata": {},
   "outputs": [
    {
     "data": {
      "text/plain": [
       "array([[<AxesSubplot:title={'center':'panel'}>]], dtype=object)"
      ]
     },
     "execution_count": 13,
     "metadata": {},
     "output_type": "execute_result"
    },
    {
     "data": {
      "image/png": "[encoded data removed]",
      "text/plain": [
       "<Figure size 432x288 with 1 Axes>"
      ]
     },
     "metadata": {
      "needs_background": "light"
     },
     "output_type": "display_data"
    }
   ],
   "source": [
    "## Run the same simulation 10,000 times\n",
    "data = []\n",
    "for i in range(10000):\n",
    "    panel = simulateJuryPanel()\n",
    "    d = {\"panel\": panel}\n",
    "    data.append(d)\n",
    "\n",
    "df2 = pd.DataFrame(data)\n",
    "\n",
    "## Create your histogram here\n",
    "df2.hist()"
   ]
  },
  {
   "cell_type": "code",
   "execution_count": 14,
   "metadata": {},
   "outputs": [
    {
     "name": "stdout",
     "output_type": "stream",
     "text": [
      "🎉 All tests passed! 🎉\n"
     ]
    }
   ],
   "source": [
    "## == TEST CASES for Puzzle 1.7 Part 1 ==\n",
    "# - This read-only cell contains test cases for your previous cell.\n",
    "# - If this cell runs with the success message as your output, you PASSED all test cases!\n",
    "# - If this cell results in any errors, check your previous cell, make changes, and RE-RUN your code and then this cell.\n",
    "\n",
    "assert(len(df2) == 10000), \"Make sure you do 10,000 simulations.\"\n",
    "\n",
    "## == SUCCESS MESSAGE ==\n",
    "# You'll only see this message (With the emoji showing) if you passed all test cases:\n",
    "tada = \"\\N{PARTY POPPER}\"\n",
    "print(f\"{tada} All tests passed! {tada}\")"
   ]
  },
  {
   "cell_type": "markdown",
   "metadata": {},
   "source": [
    "#### Part 2:\n",
    "\n",
    "Find the mean number of Black people on the randomly selected juries."
   ]
  },
  {
   "cell_type": "code",
   "execution_count": 15,
   "metadata": {},
   "outputs": [
    {
     "data": {
      "text/plain": [
       "7.9495"
      ]
     },
     "execution_count": 15,
     "metadata": {},
     "output_type": "execute_result"
    }
   ],
   "source": [
    "## Find the mean below\n",
    "\n",
    "mean2 = df2.panel.mean()\n",
    "mean2"
   ]
  },
  {
   "cell_type": "code",
   "execution_count": 16,
   "metadata": {},
   "outputs": [
    {
     "name": "stdout",
     "output_type": "stream",
     "text": [
      "🎉 All tests passed! 🎉\n"
     ]
    }
   ],
   "source": [
    "## == TEST CASES for Puzzle 1.7 Part 2 ==\n",
    "# - This read-only cell contains test cases for your previous cell.\n",
    "# - If this cell runs with the success message as your output, you PASSED all test cases!\n",
    "# - If this cell results in any errors, check your previous cell, make changes, and RE-RUN your code and then this cell.\n",
    "\n",
    "assert(mean2 < 8.5), \"You didn't calculate the mean correctly!\"\n",
    "assert(mean2 > 7.5), \"You didn't calculate the mean correctly!\"\n",
    "\n",
    "## == SUCCESS MESSAGE ==\n",
    "# You'll only see this message (With the emoji showing) if you passed all test cases:\n",
    "tada = \"\\N{PARTY POPPER}\"\n",
    "print(f\"{tada} All tests passed! {tada}\")"
   ]
  },
  {
   "cell_type": "markdown",
   "metadata": {},
   "source": [
    "## Puzzle 1.8: Final Reflection\n",
    "\n",
    "❓ **Individual Reflection Question** ❓ Individual Reflection: How did your results change? What does this tell us about the more simulations you run? "
   ]
  },
  {
   "cell_type": "markdown",
   "metadata": {},
   "source": [
    "When more simulations were done, the mean decreased. It shows that the simulations have a structural bias against black people, because the mean should have stayed somewhat the same."
   ]
  },
  {
   "cell_type": "markdown",
   "metadata": {},
   "source": [
    "❓ **Group Discussion Question** ❓ This is an example of how we can use statistics to help us solve real world problems.  Discuss with your group how simulations and data science can be used to help address issues of racism specifically.\n",
    "\n",
    "❓ **Individual Reflection Question** ❓ Give an example of a way that we can use data science to help address issues of racism.  This can be something you discussed in your group or an example you are interested in."
   ]
  },
  {
   "cell_type": "markdown",
   "metadata": {},
   "source": [
    "Doing simulations such as these can show how there is racism, such as how we found. After seeing the results we can make changes to the simulations to make them less biased and more accurate."
   ]
  },
  {
   "cell_type": "markdown",
   "metadata": {},
   "source": [
    "## Puzzle 1.9: Probability\n",
    "\n",
    "Lastly, find the probability that we'll get 3 or less Black men on the jury using `df2`.  You may want to think back to conditionals - that'll help here."
   ]
  },
  {
   "cell_type": "code",
   "execution_count": 17,
   "metadata": {},
   "outputs": [
    {
     "data": {
      "text/plain": [
       "0.0382"
      ]
     },
     "execution_count": 17,
     "metadata": {},
     "output_type": "execute_result"
    }
   ],
   "source": [
    "## Find the probability here\n",
    "\n",
    "probability = len(df2[df2.panel <= 3]) / len(df2)\n",
    "probability"
   ]
  },
  {
   "cell_type": "code",
   "execution_count": 18,
   "metadata": {},
   "outputs": [
    {
     "name": "stdout",
     "output_type": "stream",
     "text": [
      "🎉 All tests passed! 🎉\n"
     ]
    }
   ],
   "source": [
    "## == TEST CASES for Puzzle 1.9==\n",
    "# - This read-only cell contains test cases for your previous cell.\n",
    "# - If this cell runs with the success message as your output, you PASSED all test cases!\n",
    "# - If this cell results in any errors, check your previous cell, make changes, and RE-RUN your code and then this cell.\n",
    "\n",
    "assert(probability < 0.05), \"You didn't calculate the probability correctly!\"\n",
    "assert(probability > 0), \"You didn't calculate the probability correctly!\"\n",
    "\n",
    "## == SUCCESS MESSAGE ==\n",
    "# You'll only see this message (With the emoji showing) if you passed all test cases:\n",
    "tada = \"\\N{PARTY POPPER}\"\n",
    "print(f\"{tada} All tests passed! {tada}\")"
   ]
  },
  {
   "cell_type": "markdown",
   "metadata": {},
   "source": [
    "<hr style=\"color: #DD3403;\">"
   ]
  },
  {
   "cell_type": "markdown",
   "metadata": {},
   "source": [
    "# Puzzle 2: Names and Resumes + Simulation!\n",
    "\n",
    "This next simulation comes from a study looking at female names.  You can read the fully study here if you’d like (but it's not necessary): [https://www.nber.org/system/files/working_papers/w9873/w9873.pdf](https://www.nber.org/system/files/working_papers/w9873/w9873.pdf) \n",
    "\n",
    "Here’s a summary of what happened: Researchers created a standard resume and sent it out to about 500 different “Help Wanted” ads in Chicago and Boston.  The resumes that they sent were identical, except they changed the names and email addresses to have either a “white sounding” name like Emily or a “Black sounding” name like Lakisha, according to the study.  Assuming that a resume has about a 20% chance of getting a call back and half of the resumes had white sounding names and half had Black sounding names, let’s do this simulation.  We'll simulate the results and then look at what actually happened.\n",
    "\n",
    "## Puzzle 2.1: Initial Thoughts\n",
    "\n",
    "❓ **Group Discussion Question** ❓ Before we start coding, let’s think about this.  When this study was done in real life, the white sounding names had 10.33% callbacks and the Black sounding names had 6.87% callbacks.  Some of the companies claimed this difference was due to chance.  Do you think this is a significant difference? Why do you think this happened? Why or why not is this problematic?\n",
    "\n",
    "❓ **Individual Reflection Question** ❓ Write down something that surprised you from your group discussion."
   ]
  },
  {
   "cell_type": "markdown",
   "metadata": {},
   "source": [
    "Yes, it is a very significant difference because that's probably a couple thousand people even though its just a 5 percent difference. The companies even if unkowingly were biased when calling back the people. This is problematic because people should not be judged because of their names.\n",
    "\n",
    "Surprised me at how everyone knew this was a thing, and yet it still happens today."
   ]
  },
  {
   "cell_type": "markdown",
   "metadata": {},
   "source": [
    "Let’s do a simulation in Python to understand what’s going on.  We wrote most of the function for you below!  Since the content of the resumes are identical, we should expect to get an equal number of call backs for both types of names.  In other words, picking the callbacks should be like random sampling.  Next, we wrote a simulation to randomly sample 20% of 500 resumes 10,000 times.  Half of the 500 resumes are represented as 0s (Representing white sounding names) and half of the resumes are represented as 1s (Representing black sounding names).   "
   ]
  },
  {
   "cell_type": "markdown",
   "metadata": {},
   "source": [
    "## Puzzle 2.2: Load in the data\n",
    "\n",
    "We have a DataFrame called `resumes.csv` that contains 500 rows. Half are 0s (Representing white sounding names) and half are 1s (Representing black sounding names). Load this data into a DataFrame called `df3`."
   ]
  },
  {
   "cell_type": "code",
   "execution_count": 19,
   "metadata": {},
   "outputs": [],
   "source": [
    "## read in the data into a DataFrame called df3\n",
    "df3 = pd.read_csv(\"resumes.csv\")"
   ]
  },
  {
   "cell_type": "markdown",
   "metadata": {},
   "source": [
    "## Puzzle 2.3: Complete the function\n",
    "\n",
    "Below is a function that samples 20% of the 500 rows and counts the numbers of `1`s and `0`s. Fill in the second line of code in this function to random sample 20% of `df3` and store the results in a DataFrame called `df4`. Make sure to run the cell after filling in the code. "
   ]
  },
  {
   "cell_type": "code",
   "execution_count": 20,
   "metadata": {},
   "outputs": [],
   "source": [
    "def simulateResumes():\n",
    "    df4 = df3.sample(frac = .2) ## fill in the line of code that randomly samples 20% of df3 and stores the results in df4\n",
    "    black_sounding = df4[df4.Resumes == 1].count().values\n",
    "    white_sounding = df4[df4.Resumes == 0].count().values\n",
    "    return [black_sounding[0], white_sounding[0]]\n",
    "    \n",
    "SimResult = simulateResumes()"
   ]
  },
  {
   "cell_type": "code",
   "execution_count": 21,
   "metadata": {},
   "outputs": [
    {
     "name": "stdout",
     "output_type": "stream",
     "text": [
      "🎉 All tests passed! 🎉\n"
     ]
    }
   ],
   "source": [
    "## == TEST CASES for Puzzle 2.3 ==\n",
    "# - This read-only cell contains test cases for your previous cell.\n",
    "# - If this cell runs with the success message as your output, you PASSED all test cases!\n",
    "# - If this cell results in any errors, check your previous cell, make changes, and RE-RUN your code and then this cell.\n",
    "\n",
    "assert(sum(SimResult) == 100), \"Your function doesn't return the correct number of resumes.\"\n",
    "\n",
    "\n",
    "## == SUCCESS MESSAGE ==\n",
    "# You'll only see this message (With the emoji showing) if you passed all test cases:\n",
    "tada = \"\\N{PARTY POPPER}\"\n",
    "print(f\"{tada} All tests passed! {tada}\")"
   ]
  },
  {
   "cell_type": "markdown",
   "metadata": {},
   "source": [
    "## **Read This :)**\n",
    "\n",
    "Here we're simulating randomly picking 20% of the 500 resumes and doing this 10,000 times! Each time, the 20% that we sample represent the resumes that got callbacks. We're then creating a DataFrame (called `df5`) that contains the number of black sounding names and white sound names. Run the next cell to do this!"
   ]
  },
  {
   "cell_type": "code",
   "execution_count": 22,
   "metadata": {},
   "outputs": [],
   "source": [
    "data = []\n",
    "for i in range(10000):  # Simulate 10,000 times\n",
    "  result = simulateResumes()\n",
    "  data.append( { 'black_sounding': result[0], 'white_sounding': result[1]} )\n",
    "df5 = pd.DataFrame(data)"
   ]
  },
  {
   "cell_type": "markdown",
   "metadata": {},
   "source": [
    "## Puzzle 2.4: Calculating the Average Percent\n",
    "\n",
    "Calculate the average percent of resumes that got callbacks for each group of names in the simulation (These should be close to 10% for each group of names).\n",
    "\n",
    "Part 1: Calculate the average percent of resumes with black sounding names that got callbacks.  Make sure you're calculating the average **percent**, not just the average!\n",
    "\n",
    "Part 2: Calculate the average percent of resumes with white sounding names that got callbacks.  Make sure you're calculating the average **percent**, not just the average!"
   ]
  },
  {
   "cell_type": "code",
   "execution_count": 26,
   "metadata": {},
   "outputs": [
    {
     "data": {
      "text/plain": [
       "0.1000822"
      ]
     },
     "execution_count": 26,
     "metadata": {},
     "output_type": "execute_result"
    }
   ],
   "source": [
    "## Part 1- Average Percent for black sounding names (Out of 500)\n",
    "\n",
    "average_percent1 = df5.black_sounding.sum() / (500*10000)\n",
    "\n",
    "average_percent1"
   ]
  },
  {
   "cell_type": "code",
   "execution_count": 27,
   "metadata": {},
   "outputs": [
    {
     "name": "stdout",
     "output_type": "stream",
     "text": [
      "🎉 All tests passed! 🎉\n"
     ]
    }
   ],
   "source": [
    "## == TEST CASES for Puzzle 2.4 Part 1==\n",
    "# - This read-only cell contains test cases for your previous cell.\n",
    "# - If this cell runs with the success message as your output, you PASSED all test cases!\n",
    "# - If this cell results in any errors, check your previous cell, make changes, and RE-RUN your code and then this cell.\n",
    "\n",
    "assert(average_percent1 < 0.11), \"You didn't calculate the probability correctly!\"\n",
    "assert(average_percent1 > 0.085), \"You didn't calculate the probability correctly!\"\n",
    "\n",
    "## == SUCCESS MESSAGE ==\n",
    "# You'll only see this message (With the emoji showing) if you passed all test cases:\n",
    "tada = \"\\N{PARTY POPPER}\"\n",
    "print(f\"{tada} All tests passed! {tada}\")"
   ]
  },
  {
   "cell_type": "code",
   "execution_count": 28,
   "metadata": {},
   "outputs": [
    {
     "data": {
      "text/plain": [
       "0.0999178"
      ]
     },
     "execution_count": 28,
     "metadata": {},
     "output_type": "execute_result"
    }
   ],
   "source": [
    "## Part 1- Average Percent for white sounding names (Out of 500)\n",
    "\n",
    "average_percent2 = df5.white_sounding.sum() / (500*10000)\n",
    "\n",
    "average_percent2"
   ]
  },
  {
   "cell_type": "code",
   "execution_count": 30,
   "metadata": {},
   "outputs": [
    {
     "name": "stdout",
     "output_type": "stream",
     "text": [
      "🎉 All tests passed! 🎉\n"
     ]
    }
   ],
   "source": [
    "## == TEST CASES for Puzzle 2.4 Part 2==\n",
    "# - This read-only cell contains test cases for your previous cell.\n",
    "# - If this cell runs with the success message as your output, you PASSED all test cases!\n",
    "# - If this cell results in any errors, check your previous cell, make changes, and RE-RUN your code and then this cell.\n",
    "\n",
    "assert(average_percent2 < 0.11), \"You didn't calculate the probability correctly!\"\n",
    "assert(average_percent2 > 0.085), \"You didn't calculate the probability correctly!\"\n",
    "\n",
    "## == SUCCESS MESSAGE ==\n",
    "# You'll only see this message (With the emoji showing) if you passed all test cases:\n",
    "tada = \"\\N{PARTY POPPER}\"\n",
    "print(f\"{tada} All tests passed! {tada}\")"
   ]
  },
  {
   "cell_type": "markdown",
   "metadata": {},
   "source": [
    "## Puzzle 2.5: ❓ **Individual Reflection Question** ❓\n",
    "\n",
    "Think about how these percentages compare to the actual percentages (10.33% vs. 6.87%).  What does this say about discrimination based on your name?"
   ]
  },
  {
   "cell_type": "markdown",
   "metadata": {},
   "source": [
    "We can see that there more black sounding names total, but still less of them were called back. I would be more considered as I have a white sounding name.|"
   ]
  },
  {
   "cell_type": "markdown",
   "metadata": {},
   "source": [
    "<hr style=\"color: #DD3403;\">"
   ]
  },
  {
   "cell_type": "markdown",
   "metadata": {},
   "source": [
    "## Puzzle 3: Beyond STAT107\n",
    "\n",
    "❓ **Group Discussion Question** ❓ The Smith trial happened in 1993 and the name study occurred in the early 2000s.  Discuss with your group whether or not you think similar events still occur today and why. Reflect on how data science can be used to educate people about this.\n",
    "\n",
    "❓ **Individual Reflection Question** ❓ Think about your takeaways from doing these simulations in this lab.  Choose 1 of the following prompts to write a paragraph style response (5+ sentences) explaining what the simulation showed in either Puzzle 1 or Puzzle 2. \n",
    "\n",
    "**Option 1**: Puzzle 1- Pretend that you're a defense attorney and a data scientist. Write a memo to the Supreme Court positioning yourself as a data scientist arguing whether or not your think the jury with 3 Black men was randomly selected. Justify your decision and include guidelines for the future.\n",
    "\n",
    "**Option 2**: Puzzle 2- Pretend that you're a data scientist arguing whether or not there was discrimination based on how applicants’ names sound. Write a memo to the HR Department of 1 of the companies positioning yourself as a data scientist arguing whether or employers are biased against certain names. Justify your decision using what you’ve already done and include guidelines for the future.\n",
    "\n",
    "\n",
    "Remember, you only need to do either Option 1 **OR** Option 2 *(not both)*!"
   ]
  },
  {
   "cell_type": "markdown",
   "metadata": {},
   "source": [
    "Hello Supreme Court, I am a defense attorney and a data scientist. After running many simulations, I have calculated that by chance, haveing only 3 black people on the jury is a 1 percent chance! So I can see that you have lied that it happened by chance. I have also found that there are overall more black sounding names than white sounding names, and yet more white sounding names were still chosen. This shows me and everyone that this was not by chance, and your calling decisions are very biased towards black people. You should change this imemdiatley and stop being biased towards people just because of their names."
   ]
  },
  {
   "cell_type": "markdown",
   "metadata": {},
   "source": [
    "<hr style=\"color: #DD3403;\">"
   ]
  },
  {
   "cell_type": "markdown",
   "metadata": {},
   "source": [
    "## Submit Your Work!\n",
    "\n",
    "You're almost done!  All you need to do is to commit your lab to GitHub:\n",
    "\n",
    "1.  ⚠️ **Make sure to save your work.** ⚠️ To do this, go to **File => Save All**\n",
    "\n",
    "2.  After you have saved, exit this notebook and follow the Canvas instructions to commit this lab to your Git repository!\n",
    "\n",
    "3. Your TA will grade your submission and provide you feedback after the lab is due. :)"
   ]
  }
 ],
 "metadata": {
  "kernelspec": {
   "display_name": "Python 3.9.12 ('base')",
   "language": "python",
   "name": "python3"
  },
  "language_info": {
   "codemirror_mode": {
    "name": "ipython",
    "version": 3
   },
   "file_extension": ".py",
   "mimetype": "text/x-python",
   "name": "python",
   "nbconvert_exporter": "python",
   "pygments_lexer": "ipython3",
   "version": "3.9.12"
  },
  "orig_nbformat": 4,
  "vscode": {
   "interpreter": {
    "hash": "abe02cd20ea510ba20bba73cf3f48e71b8b48b2904496573b4c2513db3286569"
   }
  }
 },
 "nbformat": 4,
 "nbformat_minor": 2
}
