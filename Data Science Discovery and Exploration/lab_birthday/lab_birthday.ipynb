{
 "cells": [
  {
   "cell_type": "markdown",
   "metadata": {},
   "source": [
    "# Welcome to Lab: Birthday 🎂\n",
    "\n",
    "## Happy Birthday!\n",
    "\n",
    "Just kidding, it's *(probably, with P=0.9973)* not your birthday, but it might be someone's birthday in this room! Taylor Swift says she will come and give a free concert on THE QUAD on December 13th if it is someone's birthday on that day. Now obviously the students want to make this happen, so they ask you to do some calculations regarding the probability of the concert happening.\n",
    "\n",
    "- For these puzzles, we assume that each year is **365 days** (ignore leap years)\n",
    "- We also assume that everyone has an **equal chance** of a birthday each day *(not actually true in real life)*\n",
    "\n",
    "\n",
    "## Record Your Lab Group"
   ]
  },
  {
   "cell_type": "code",
   "execution_count": null,
   "metadata": {},
   "outputs": [],
   "source": [
    "# Meet your CAs and TA if you haven't already!\n",
    "# ...first name is enough, we'll know who they are! :)\n",
    "ta_name = \"\"\n",
    "ca1_name = \"\"\n",
    "ca2_name = \"\"\n",
    "\n",
    "\n",
    "# Say hello to each other!\n",
    "# - Groups of 3 are ideal :)\n",
    "# - However, groups of 2 or 4 are fine too!\n",
    "#\n",
    "# QOTD to Ask Your Group: \"If you could be anything, what would you be?\"\n",
    "partner1_name = \"\"\n",
    "partner1_netid = \"\"\n",
    "partner1_be_anything = \"\"\n",
    "\n",
    "partner2_name = \"\"\n",
    "partner2_netid = \"\"\n",
    "partner2_be_anything = \"\"\n",
    "\n",
    "partner3_name = \"\"\n",
    "partner3_netid = \"\"\n",
    "partner3_be_anything = \"\""
   ]
  },
  {
   "cell_type": "markdown",
   "metadata": {},
   "source": [
    "<hr style=\"color: #DD3403;\">"
   ]
  },
  {
   "cell_type": "markdown",
   "metadata": {},
   "source": [
    "# Puzzle 1. My Birthday\n",
    "\n",
    "The **birthday problem** is a classic statistical problem that asks: *How likely is it for at least two people in a room of **n** people to share a birthday?*  In other words, what's the chance that there's at least one match of birthdays in a room with **n** people? We'll cover this in Puzzle \\#2.\n",
    "\n",
    "\n",
    "### \"My Birthday Problem\"\n",
    "\n",
    "To begin, let's consider **your birthday**.  We are actually going to start with a related, but very different question: \n",
    "\n",
    "> *How likely is it for at least one person in a room to have the same birthday as **me**?*"
   ]
  },
  {
   "cell_type": "markdown",
   "metadata": {},
   "source": [
    "### Puzzle 1.1: Sharing My Birthday with 1, 2, or 3 Other People\n",
    "\n",
    "### One Other Person (n=1)\n",
    "\n",
    "If you are in a room with **one other person**, what is the probability you both have the same birthday? (*Of course you know your own birthday!*) There is no need for any python code for this puzzle, it should be a mathematical answer!  Replace the ... with your answer in the following puzzles!"
   ]
  },
  {
   "cell_type": "code",
   "execution_count": 19,
   "metadata": {
    "nbgrader": {
     "grade": false,
     "grade_id": "cell-16021a893dda10f8",
     "locked": false,
     "schema_version": 3,
     "solution": true,
     "task": false
    }
   },
   "outputs": [
    {
     "data": {
      "text/plain": [
       "0.0027397260273972603"
      ]
     },
     "execution_count": 19,
     "metadata": {},
     "output_type": "execute_result"
    }
   ],
   "source": [
    "p_one_person_my_birthday = (1/365)\n",
    "p_one_person_my_birthday"
   ]
  },
  {
   "cell_type": "markdown",
   "metadata": {},
   "source": [
    "### Two Other People (n=2)\n",
    "\n",
    "If you are in a room with **two other people**, what is the probability that at least one of them has the same birthday as you?"
   ]
  },
  {
   "cell_type": "code",
   "execution_count": 27,
   "metadata": {
    "nbgrader": {
     "grade": false,
     "grade_id": "cell-d776448804b67dfc",
     "locked": false,
     "schema_version": 3,
     "solution": true,
     "task": false
    }
   },
   "outputs": [
    {
     "data": {
      "text/plain": [
       "0.005471945956089352"
      ]
     },
     "execution_count": 27,
     "metadata": {},
     "output_type": "execute_result"
    }
   ],
   "source": [
    "p_two_others_my_birthday = (1-(364/365)**2)\n",
    "p_two_others_my_birthday"
   ]
  },
  {
   "cell_type": "markdown",
   "metadata": {},
   "source": [
    "### Three Other People (n=3)\n",
    "\n",
    "If you are in a room with **three other people**, what is the probability that at least one of them has the same birthday as you?"
   ]
  },
  {
   "cell_type": "code",
   "execution_count": 29,
   "metadata": {
    "nbgrader": {
     "grade": false,
     "grade_id": "cell-9b6271534fe56ab1",
     "locked": false,
     "schema_version": 3,
     "solution": true,
     "task": false
    }
   },
   "outputs": [
    {
     "data": {
      "text/plain": [
       "0.008196680350730179"
      ]
     },
     "execution_count": 29,
     "metadata": {},
     "output_type": "execute_result"
    }
   ],
   "source": [
    "p_three_others_my_birthday = 1 - (364/365)**3\n",
    "p_three_others_my_birthday"
   ]
  },
  {
   "cell_type": "code",
   "execution_count": 30,
   "metadata": {
    "nbgrader": {
     "grade": true,
     "grade_id": "cell-2213109ad4022435",
     "locked": true,
     "points": 0,
     "schema_version": 3,
     "solution": false,
     "task": false
    }
   },
   "outputs": [
    {
     "name": "stdout",
     "output_type": "stream",
     "text": [
      "🎉 All tests passed! 🎉\n"
     ]
    }
   ],
   "source": [
    "## == TEST CASES for Puzzle 1a ==\n",
    "# - This read-only cell contains test cases for your previous cells.\n",
    "# - If this cell runs without any error our output, you PASSED all test cases!\n",
    "# - If this cell results in any errors, check you previous cell, make changes, and RE-RUN your code and then this cell.\n",
    "\n",
    "assert(abs(p_one_person_my_birthday - 0.0027397) < 0.001), \"The probability for one birthday doesn't seem right.\"\n",
    "assert(abs(p_two_others_my_birthday - 0.0054719) < 0.001), \"The probability for two birthdays doesn't seem right.\"\n",
    "assert(abs(p_three_others_my_birthday - 0.0081966) < 0.001), \"The probability for three birthdays doesn't seem right.\"\n",
    "\n",
    "## == SUCCESS MESSAGE ==\n",
    "# You will only see this message (with the emoji showing) if you passed all test cases:\n",
    "tada = \"\\N{PARTY POPPER}\"\n",
    "print(f\"{tada} All tests passed! {tada}\")"
   ]
  },
  {
   "cell_type": "markdown",
   "metadata": {},
   "source": [
    "## Puzzle 1.2: Sharing My Birthday with `n` Other People\n",
    "\n",
    "Suppose we have a room with **`n` other people**.  Complete the function `p_my_birthday(n)`, where `n` is the parameter, that returns the probability that at least one person has the same birthday as you.  All you have to do is replace the ... with the probability written in terms of n.\n",
    "\n",
    "**Note:** A function is a useful way to **reuse code** and use different inputs to get different outputs, similar to a math function except for code! :) Below, we set up most of the code to **define** the function `p_my_birthday` with the parameter `n` as the input (i.e. how many other people there are in the room with you). The output of the function should be the calculated probability of observing at least one match with you in a room with `n` other people.\n"
   ]
  },
  {
   "cell_type": "code",
   "execution_count": 31,
   "metadata": {
    "nbgrader": {
     "grade": false,
     "grade_id": "cell-9fcc75505fada2fa",
     "locked": false,
     "schema_version": 3,
     "solution": true,
     "task": false
    }
   },
   "outputs": [],
   "source": [
    "# Defining the function\n",
    "def p_my_birthday(n):\n",
    "    return 1 - (364/365)**n"
   ]
  },
  {
   "cell_type": "markdown",
   "metadata": {},
   "source": [
    "### Running Your Function:\n",
    "\n",
    "Here are a few inputs to test our function.  Make sure the answers are what you expect. You do not need to do anything for this cell, just run it!"
   ]
  },
  {
   "cell_type": "code",
   "execution_count": 32,
   "metadata": {},
   "outputs": [
    {
     "name": "stdout",
     "output_type": "stream",
     "text": [
      "A room with one other person: 0.002739726027397249\n",
      "A room with two other people: 0.005471945956089352\n",
      "A room with three other people: 0.008196680350730179\n",
      "A room with 100 other people: 0.23993292618409912\n",
      "A room with 1000 other people: 0.9356543499651447\n",
      "A room with 10000 other people: 0.9999999999987833\n"
     ]
    }
   ],
   "source": [
    "# RUN THIS CELL\n",
    "print('A room with one other person:', p_my_birthday(1))\n",
    "print('A room with two other people:', p_my_birthday(2))\n",
    "print('A room with three other people:', p_my_birthday(3))\n",
    "print('A room with 100 other people:', p_my_birthday(100))\n",
    "print('A room with 1000 other people:', p_my_birthday(1000))\n",
    "print('A room with 10000 other people:', p_my_birthday(10000))"
   ]
  },
  {
   "cell_type": "code",
   "execution_count": 33,
   "metadata": {
    "nbgrader": {
     "grade": true,
     "grade_id": "cell-f1a2b09260950b38",
     "locked": true,
     "points": 0,
     "schema_version": 3,
     "solution": false,
     "task": false
    }
   },
   "outputs": [
    {
     "name": "stdout",
     "output_type": "stream",
     "text": [
      "🎉 All tests passed! 🎉\n"
     ]
    }
   ],
   "source": [
    "## == TEST CASES for Puzzle 1b ==\n",
    "# - This read-only cell contains test cases for your previous cells.\n",
    "# - If this cell runs without any error our output, you PASSED all test cases!\n",
    "# - If this cell results in any errors, check you previous cell, make changes, and RE-RUN your code and then this cell.\n",
    "\n",
    "assert(abs(p_my_birthday(1) - 0.0027397) < 0.001), \"The probability doesn't seem right.\"\n",
    "assert(abs(p_my_birthday(2) - 0.0054719) < 0.001), \"The probability doesn't seem right.\"\n",
    "assert(abs(p_my_birthday(3) - 0.0081966) < 0.001), \"The probability doesn't seem right.\"\n",
    "assert(abs(p_my_birthday(100) - 0.23993292) < 0.001), \"The probability doesn't seem right.\"\n",
    "assert(abs(p_my_birthday(1000) - 0.93565) < 0.001), \"The probability doesn't seem right.\"\n",
    "\n",
    "## == SUCCESS MESSAGE ==\n",
    "# You will only see this message (with the emoji showing) if you passed all test cases:\n",
    "tada = \"\\N{PARTY POPPER}\"\n",
    "print(f\"{tada} All tests passed! {tada}\")"
   ]
  },
  {
   "cell_type": "markdown",
   "metadata": {},
   "source": [
    "### Result Plot\n",
    "\n",
    "The following code below uses your `p_my_birthday` function to generate a plot showing the probability of you having the same birthday as someone else increasing as the number of people in the room grows.\n",
    "\n",
    "This code is complete, but notice how it is **very close** to the simulation code:\n",
    "- Both code for simulation and the code below starts with an empty list (`data = []`)\n",
    "- Both code for simulation and the code below runs a defined number of times (`for i in range(2000):`)\n",
    "- Instead of simulating real-world variables, we record the data for every value of `i`.\n",
    "- The rest is the same! :)"
   ]
  },
  {
   "cell_type": "code",
   "execution_count": 34,
   "metadata": {},
   "outputs": [],
   "source": [
    "# Record the data in a DataFrame:\n",
    "import pandas as pd\n",
    "data = []\n",
    "for i in range(2000):\n",
    "    d = { 'Other People': i, 'P(at least one person shares my birthday)': p_my_birthday(i) }\n",
    "    data.append(d)\n",
    "\n",
    "df = pd.DataFrame(data)"
   ]
  },
  {
   "cell_type": "code",
   "execution_count": 35,
   "metadata": {},
   "outputs": [
    {
     "data": {
      "image/png": "[encoded data removed]",
      "text/plain": [
       "<Figure size 432x288 with 1 Axes>"
      ]
     },
     "metadata": {
      "needs_background": "light"
     },
     "output_type": "display_data"
    }
   ],
   "source": [
    "# Plot our DataFrame:\n",
    "plot = df.plot.line(y='P(at least one person shares my birthday)', x='Other People', grid=True)"
   ]
  },
  {
   "cell_type": "markdown",
   "metadata": {},
   "source": [
    "## Puzzle 1.3: Chance of Sharing Your Birthday vs. Chance of Two People Sharing a Birthday\n",
    "\n",
    "❓ **Individual Reflection Question** ❓ Is it more or less likely that someone in your lab shares **your** birthday **OR** that there's at least one shared birthday between **anyone** in your lab?"
   ]
  },
  {
   "cell_type": "markdown",
   "metadata": {},
   "source": [
    "That there is at least one shared birthday between anyone in the lab, because then more birthdates are considered"
   ]
  },
  {
   "cell_type": "markdown",
   "metadata": {},
   "source": [
    "❓ **Group Discussion Question** ❓ In your lab section there is likely a greater than 50% chance that there is a shared birthday. Using the results from Puzzle 1.2 and your conclusions from your Individual Reflection, discuss with your group members whether or not they are intuitive or counterintuitive?\n",
    "\n",
    "We said that it is intuitive because the more birthdays there are the more chance there is a match"
   ]
  },
  {
   "cell_type": "markdown",
   "metadata": {},
   "source": [
    "<hr style=\"color: #DD3403;\">"
   ]
  },
  {
   "cell_type": "markdown",
   "metadata": {},
   "source": [
    "# Puzzle 2: The Classic Birthday Problem\n",
    "\n",
    "The **birthday problem** is a classic problem that asks: *How likely is it for at least two people in a room to share a birthday?*\n",
    "\n",
    "**NOTE**: *Since we're no longer using your birthday, all birthdays here are now random.*"
   ]
  },
  {
   "cell_type": "markdown",
   "metadata": {},
   "source": [
    "## Puzzle 2.1: At Least Two People Sharing a Birthday at a Small Party\n",
    "\n",
    "### A One-Person Party (n=1)\n",
    "\n",
    "Let's start with just one person in a room.  The probability that they share a birthday with someone else is... well... 0%. :(\n",
    "\n",
    "$P(shared\\ birthday\\ with\\ 1\\ person) = 0$\n",
    "\n",
    "\n",
    "### A Two-Person Party (n=2)\n",
    "\n",
    "The probability of two people in a room sharing the same birthday is non-zero!  This is the probability of the second person having exactly the same birthday as the first -- 1 out of 365!\n",
    "\n",
    "$P(shared\\ birthday\\ with\\ 2\\ people) = \\frac{1}{365}$\n",
    "\n",
    "\n",
    "### A Three-Person Party (n=3)\n",
    "\n",
    "Now it gets interesting!  In a three person party, what is the probability that there is **at least one** match of birthdays?\n",
    "\n",
    "Use the following cell to find the answer in Python, the solutions will be mathematical equations:"
   ]
  },
  {
   "cell_type": "code",
   "execution_count": 86,
   "metadata": {
    "nbgrader": {
     "grade": false,
     "grade_id": "cell-9db7fd67d49459bd",
     "locked": false,
     "schema_version": 3,
     "solution": true,
     "task": false
    }
   },
   "outputs": [
    {
     "data": {
      "text/plain": [
       "0.008219178082191747"
      ]
     },
     "execution_count": 86,
     "metadata": {},
     "output_type": "execute_result"
    }
   ],
   "source": [
    "P_three_person_party = 1 - (362/365)\n",
    "P_three_person_party"
   ]
  },
  {
   "cell_type": "code",
   "execution_count": 87,
   "metadata": {
    "nbgrader": {
     "grade": true,
     "grade_id": "cell-3aa5b5a4afef9fbc",
     "locked": true,
     "points": 0,
     "schema_version": 3,
     "solution": false,
     "task": false
    }
   },
   "outputs": [
    {
     "name": "stdout",
     "output_type": "stream",
     "text": [
      "🎉 All tests passed! 🎉\n"
     ]
    }
   ],
   "source": [
    "## == TEST CASES for Puzzle 2 (with n=3) ==\n",
    "# - This read-only cell contains test cases for your previous cell.\n",
    "# - If this cell runs without any error our output, you PASSED all test cases!\n",
    "# - If this cell results in any errors, check you previous cell, make changes, and RE-RUN your code and then this cell.\n",
    "assert(abs(P_three_person_party - 0.0082041) < 0.001), \"The probability doesn't seem right.\"\n",
    "\n",
    "## == SUCCESS MESSAGE ==\n",
    "# You will only see this message (with the emoji showing) if you passed all test cases:\n",
    "tada = \"\\N{PARTY POPPER}\"\n",
    "print(f\"{tada} All tests passed! {tada}\")"
   ]
  },
  {
   "cell_type": "markdown",
   "metadata": {},
   "source": [
    "### A Four-Person Party (n=4)\n",
    "\n",
    "In a four person party, what is the probability that there is **at least one** match of birthdays?\n",
    "\n",
    "Use the following cell to find the answer in Python:"
   ]
  },
  {
   "cell_type": "code",
   "execution_count": 97,
   "metadata": {
    "nbgrader": {
     "grade": false,
     "grade_id": "cell-1a5b32da97b97164",
     "locked": false,
     "schema_version": 3,
     "solution": true,
     "task": false
    }
   },
   "outputs": [
    {
     "data": {
      "text/plain": [
       "0.016438356164383605"
      ]
     },
     "execution_count": 97,
     "metadata": {},
     "output_type": "execute_result"
    }
   ],
   "source": [
    "P_four_person_party = 1 - (359/365)\n",
    "P_four_person_party"
   ]
  },
  {
   "cell_type": "code",
   "execution_count": 98,
   "metadata": {
    "nbgrader": {
     "grade": true,
     "grade_id": "cell-571231fcdfa9de08",
     "locked": true,
     "points": 1,
     "schema_version": 3,
     "solution": false,
     "task": false
    }
   },
   "outputs": [
    {
     "name": "stdout",
     "output_type": "stream",
     "text": [
      "🎉 All tests passed! 🎉\n"
     ]
    }
   ],
   "source": [
    "## == TEST CASES for Puzzle 2 (with n=4) ==\n",
    "# - This read-only cell contains test cases for your previous cell.\n",
    "# - If this cell runs without any error our output, you PASSED all test cases!\n",
    "# - If this cell results in any errors, check you previous cell, make changes, and RE-RUN your code and then this cell.\n",
    "assert(abs(P_four_person_party - 0.01635) < 0.001), \"The probability doesn't seem right.\"\n",
    "\n",
    "## == SUCCESS MESSAGE ==\n",
    "# You will only see this message (with the emoji showing) if you passed all test cases:\n",
    "tada = \"\\N{PARTY POPPER}\"\n",
    "print(f\"{tada} All tests passed! {tada}\")"
   ]
  },
  {
   "cell_type": "markdown",
   "metadata": {},
   "source": [
    "### Example: At Least Two People Sharing a Birthday at an `n`-Person Party\n",
    "\n",
    "Let's create a function called `P_shared_birthday` that returns the probability that there is **at least one** match of birthdays among n people. This is essentially just creating a function that does the Birthday Problem we did in class!"
   ]
  },
  {
   "cell_type": "code",
   "execution_count": 92,
   "metadata": {
    "nbgrader": {
     "grade": false,
     "grade_id": "cell-8826e853f191d14f",
     "locked": false,
     "schema_version": 3,
     "solution": true,
     "task": false
    }
   },
   "outputs": [
    {
     "name": "stdout",
     "output_type": "stream",
     "text": [
      "A room with just you: 0\n",
      "A room with two people: 0.002739726027397249\n",
      "A room with three person: 0.008204165884781456\n",
      "A room with four person: 0.016355912466550326\n",
      "A room with 40 other person: 0.891231809817949\n",
      "A room with 80 other person: 0.9999143319493135\n",
      "A room with 400 other person: 1.0\n"
     ]
    }
   ],
   "source": [
    "def P_shared_birthday(n):\n",
    "    prod = 1\n",
    "    for i in range(1, n):\n",
    "        prod = prod * (365 - i) / 365\n",
    "    return 1 - prod\n",
    "\n",
    "# Here's a few tests\n",
    "print('A room with just you:',  P_shared_birthday(1))\n",
    "print('A room with two people:',  P_shared_birthday(2))\n",
    "print('A room with three person:',  P_shared_birthday(3))\n",
    "print('A room with four person:',  P_shared_birthday(4))\n",
    "print('A room with 40 other person:',  P_shared_birthday(40))\n",
    "print('A room with 80 other person:',  P_shared_birthday(80))\n",
    "print('A room with 400 other person:',  P_shared_birthday(400))"
   ]
  },
  {
   "cell_type": "code",
   "execution_count": 93,
   "metadata": {
    "nbgrader": {
     "grade": true,
     "grade_id": "cell-5a323ce5fab0c281",
     "locked": true,
     "points": 0,
     "schema_version": 3,
     "solution": false,
     "task": false
    }
   },
   "outputs": [
    {
     "name": "stdout",
     "output_type": "stream",
     "text": [
      "🎉 All tests passed! 🎉\n"
     ]
    }
   ],
   "source": [
    "## == TEST CASES for Puzzle 2 (function) ==\n",
    "# - This read-only cell contains test cases for your previous cell.\n",
    "# - If this cell runs without any error our output, you PASSED all test cases!\n",
    "# - If this cell results in any errors, check you previous cell, make changes, and RE-RUN your code and then this cell.\n",
    "\n",
    "assert(abs(P_shared_birthday(3) - 0.0082041) < 0.001), \"The probability doesn't seem right.\"\n",
    "assert(abs(P_shared_birthday(4) - 0.01635) < 0.001), \"The probability doesn't seem right.\"\n",
    "assert(abs(P_shared_birthday(40) - 0.8912318) < 0.001), \"The probability doesn't seem right.\"\n",
    "assert(abs(P_shared_birthday(80) - 0.999914) < 0.001), \"The probability doesn't seem right.\"\n",
    "\n",
    "## == SUCCESS MESSAGE ==\n",
    "# You will only see this message (with the emoji showing) if you passed all test cases:\n",
    "tada = \"\\N{PARTY POPPER}\"\n",
    "print(f\"{tada} All tests passed! {tada}\")"
   ]
  },
  {
   "cell_type": "markdown",
   "metadata": {},
   "source": [
    "## Puzzle 2.2: Result Plot\n",
    "\n",
    "Create a plot showing the growth of `P_shared_birthday` similar to the plot generated in Puzzle #1.  *Make sure the range of your graph focuses on the interesting features.*\n",
    "\n",
    "**REQUIREMENT:** Adjust the number of records you record to focus only on the interesting part of this plot.\n",
    "\n",
    "**NOTE:** You may need to refer back to the Puzzle #1 result plot to refresh your memory on how to do this."
   ]
  },
  {
   "cell_type": "code",
   "execution_count": 106,
   "metadata": {
    "nbgrader": {
     "grade": false,
     "grade_id": "cell-c46ee253ad4a8777",
     "locked": false,
     "schema_version": 3,
     "solution": true,
     "task": false
    }
   },
   "outputs": [],
   "source": [
    "# Create the DataFrame:\n",
    "data = []\n",
    "for i in range(100):\n",
    "    d = { 'Other People': i, 'P(at least one shared birthday)': P_shared_birthday(i) }\n",
    "    data.append(d)\n",
    "\n",
    "df = pd.DataFrame(data)"
   ]
  },
  {
   "cell_type": "code",
   "execution_count": 107,
   "metadata": {},
   "outputs": [
    {
     "data": {
      "image/png": "[encoded data removed]",
      "text/plain": [
       "<Figure size 432x288 with 1 Axes>"
      ]
     },
     "metadata": {
      "needs_background": "light"
     },
     "output_type": "display_data"
    }
   ],
   "source": [
    "# Plot the DataFrame:\n",
    "plot = df.plot.line(y='P(at least one shared birthday)', x='Other People', grid=True)"
   ]
  },
  {
   "cell_type": "markdown",
   "metadata": {},
   "source": [
    "<hr style=\"color: #DD3403;\">"
   ]
  },
  {
   "cell_type": "markdown",
   "metadata": {},
   "source": [
    "# Puzzle 3: Taylor's Birthday Problem\n",
    "\n",
    "Taylor Swift wants **every day to be someone's birthday**!  Given a massive concert of `n` people, what is the probability that **all 365 days have at least one person with a birthday that day**?\n",
    "\n",
    "Since Wade, Karle, and the full course staff <3s Taylor, we wrote a function to do this simulation for Taylor!  You can check out the code below, but all you need to know is that:\n",
    "\n",
    "> The `simulation_for_taylor` function returns one simulation of the number of people needed to satisfy Taylor's wish for there to be someone with a birthday for every day of the year at her concert!\n",
    "\n",
    "...you will need to **use this function** to help us calculate probabilities!"
   ]
  },
  {
   "cell_type": "code",
   "execution_count": 108,
   "metadata": {},
   "outputs": [],
   "source": [
    "# The `simulation_for_taylor` function returns one simulation of the number of people needed\n",
    "# to satisfy Taylor's wish for there to be someone with a birthday for every day of the year\n",
    "# at her concert!\n",
    "#\n",
    "# @return: One simulation of the number of people needed at the concert.\n",
    "#   Examples: 2056, 2520, 2868, 3033, 2022, 1743, ...\n",
    "import random\n",
    "def simulation_for_taylor():\n",
    "    ct = 0   #< Count the number of people needed\n",
    "    day = 0  #< Count the current unique days found\n",
    "    \n",
    "    # While all 365 unique days have not been seen:\n",
    "    while day < 365:\n",
    "        # Add a person:\n",
    "        ct = ct + 1\n",
    "        \n",
    "        # Check if a random number is a new, unique day.\n",
    "        # - When day == 0, we've seen no unique days so P(unique day) == 1 as randint(0, 364) will always be `>= 0` (100%)\n",
    "        # - When day == 1, P(unique day) == (364/365) and we check if we get a number `>= 1` (any number but 0)\n",
    "        # - When day == 2, P(unique day) == (363/365) and we check if we get a number `>= 2` (anything but 0 or 1)\n",
    "        # - ...\n",
    "        # - When day == 364, P(unique day) == (1/365) so we need get randint(0, 364) to be exactly 364.\n",
    "        if random.randint(0, 364) >= day:\n",
    "            day = day + 1\n",
    "            \n",
    "    # Return the number of people needed\n",
    "    return ct    "
   ]
  },
  {
   "cell_type": "markdown",
   "metadata": {},
   "source": [
    "## Puzzle 3.1: Run the already-complete simulation\n",
    "\n",
    "Run this next cell several times.  See the different number of people at Taylor's concert for everyone to have a birthday:"
   ]
  },
  {
   "cell_type": "code",
   "execution_count": 111,
   "metadata": {
    "nbgrader": {
     "grade": false,
     "grade_id": "cell-a60a84fa1d64c87d",
     "locked": false,
     "schema_version": 3,
     "solution": true,
     "task": false
    }
   },
   "outputs": [
    {
     "data": {
      "text/plain": [
       "2980"
      ]
     },
     "execution_count": 111,
     "metadata": {},
     "output_type": "execute_result"
    }
   ],
   "source": [
    "simulation_for_taylor()"
   ]
  },
  {
   "cell_type": "markdown",
   "metadata": {},
   "source": [
    "### Example: Collecting Simulation Results\n",
    "\n",
    "Using `simulation_for_taylor` as the real-world event simulation, collect the results of running the simulation at least **1000** times and store the result in `df_taylor`.  You'll need to write a simulation below *(any column name for the results of `simulation_for_taylor` is fine)*.\n",
    "\n",
    "*(Note: This may take a few seconds or up to a minute to run on a slower laptop.  You may want to just run the simulation 10 times until your code works before changing to to 1,000.)*"
   ]
  },
  {
   "cell_type": "code",
   "execution_count": 113,
   "metadata": {
    "nbgrader": {
     "grade": false,
     "grade_id": "cell-6a44b9f35daf8325",
     "locked": false,
     "schema_version": 3,
     "solution": true,
     "task": false
    }
   },
   "outputs": [
    {
     "data": {
      "text/html": [
       "<div>\n",
       "<style scoped>\n",
       "    .dataframe tbody tr th:only-of-type {\n",
       "        vertical-align: middle;\n",
       "    }\n",
       "\n",
       "    .dataframe tbody tr th {\n",
       "        vertical-align: top;\n",
       "    }\n",
       "\n",
       "    .dataframe thead th {\n",
       "        text-align: right;\n",
       "    }\n",
       "</style>\n",
       "<table border=\"1\" class=\"dataframe\">\n",
       "  <thead>\n",
       "    <tr style=\"text-align: right;\">\n",
       "      <th></th>\n",
       "      <th>sim</th>\n",
       "    </tr>\n",
       "  </thead>\n",
       "  <tbody>\n",
       "    <tr>\n",
       "      <th>0</th>\n",
       "      <td>2015</td>\n",
       "    </tr>\n",
       "    <tr>\n",
       "      <th>1</th>\n",
       "      <td>2208</td>\n",
       "    </tr>\n",
       "    <tr>\n",
       "      <th>2</th>\n",
       "      <td>2098</td>\n",
       "    </tr>\n",
       "    <tr>\n",
       "      <th>3</th>\n",
       "      <td>1935</td>\n",
       "    </tr>\n",
       "    <tr>\n",
       "      <th>4</th>\n",
       "      <td>2815</td>\n",
       "    </tr>\n",
       "    <tr>\n",
       "      <th>...</th>\n",
       "      <td>...</td>\n",
       "    </tr>\n",
       "    <tr>\n",
       "      <th>995</th>\n",
       "      <td>2816</td>\n",
       "    </tr>\n",
       "    <tr>\n",
       "      <th>996</th>\n",
       "      <td>2198</td>\n",
       "    </tr>\n",
       "    <tr>\n",
       "      <th>997</th>\n",
       "      <td>1883</td>\n",
       "    </tr>\n",
       "    <tr>\n",
       "      <th>998</th>\n",
       "      <td>2453</td>\n",
       "    </tr>\n",
       "    <tr>\n",
       "      <th>999</th>\n",
       "      <td>2303</td>\n",
       "    </tr>\n",
       "  </tbody>\n",
       "</table>\n",
       "<p>1000 rows × 1 columns</p>\n",
       "</div>"
      ],
      "text/plain": [
       "      sim\n",
       "0    2015\n",
       "1    2208\n",
       "2    2098\n",
       "3    1935\n",
       "4    2815\n",
       "..    ...\n",
       "995  2816\n",
       "996  2198\n",
       "997  1883\n",
       "998  2453\n",
       "999  2303\n",
       "\n",
       "[1000 rows x 1 columns]"
      ]
     },
     "execution_count": 113,
     "metadata": {},
     "output_type": "execute_result"
    }
   ],
   "source": [
    "# Simulation code using the `simulation_for_taylor` function to run 1,000 times:\n",
    "data = []\n",
    "for i in range(1000):\n",
    "    sim = simulation_for_taylor()\n",
    "    d = {\"sim\": sim}\n",
    "    data.append(d)\n",
    "\n",
    "# Finally, create a DataFrame of simulation results:\n",
    "df_taylor = pd.DataFrame(data)\n",
    "df_taylor\n"
   ]
  },
  {
   "cell_type": "markdown",
   "metadata": {},
   "source": [
    "## Puzzle 3.2: Finding the probability we delivered for Taylor\n",
    "\n",
    "The concert is held and we have **exactly 2,000 people packed onto the quad for Taylor Swift!**  Using your simulation results, find an estimate for the probability that Taylor will be happy to know every day of the year is someone’s birthday:"
   ]
  },
  {
   "cell_type": "code",
   "execution_count": 115,
   "metadata": {
    "nbgrader": {
     "grade": false,
     "grade_id": "cell-0b48a78d683ce577",
     "locked": false,
     "schema_version": 3,
     "solution": true,
     "task": false
    }
   },
   "outputs": [
    {
     "data": {
      "text/html": [
       "<div>\n",
       "<style scoped>\n",
       "    .dataframe tbody tr th:only-of-type {\n",
       "        vertical-align: middle;\n",
       "    }\n",
       "\n",
       "    .dataframe tbody tr th {\n",
       "        vertical-align: top;\n",
       "    }\n",
       "\n",
       "    .dataframe thead th {\n",
       "        text-align: right;\n",
       "    }\n",
       "</style>\n",
       "<table border=\"1\" class=\"dataframe\">\n",
       "  <thead>\n",
       "    <tr style=\"text-align: right;\">\n",
       "      <th></th>\n",
       "      <th>sim</th>\n",
       "    </tr>\n",
       "  </thead>\n",
       "  <tbody>\n",
       "    <tr>\n",
       "      <th>3</th>\n",
       "      <td>1935</td>\n",
       "    </tr>\n",
       "    <tr>\n",
       "      <th>6</th>\n",
       "      <td>1824</td>\n",
       "    </tr>\n",
       "    <tr>\n",
       "      <th>11</th>\n",
       "      <td>1709</td>\n",
       "    </tr>\n",
       "    <tr>\n",
       "      <th>13</th>\n",
       "      <td>1959</td>\n",
       "    </tr>\n",
       "    <tr>\n",
       "      <th>14</th>\n",
       "      <td>1629</td>\n",
       "    </tr>\n",
       "    <tr>\n",
       "      <th>...</th>\n",
       "      <td>...</td>\n",
       "    </tr>\n",
       "    <tr>\n",
       "      <th>965</th>\n",
       "      <td>1981</td>\n",
       "    </tr>\n",
       "    <tr>\n",
       "      <th>970</th>\n",
       "      <td>1905</td>\n",
       "    </tr>\n",
       "    <tr>\n",
       "      <th>981</th>\n",
       "      <td>1952</td>\n",
       "    </tr>\n",
       "    <tr>\n",
       "      <th>990</th>\n",
       "      <td>1740</td>\n",
       "    </tr>\n",
       "    <tr>\n",
       "      <th>997</th>\n",
       "      <td>1883</td>\n",
       "    </tr>\n",
       "  </tbody>\n",
       "</table>\n",
       "<p>227 rows × 1 columns</p>\n",
       "</div>"
      ],
      "text/plain": [
       "      sim\n",
       "3    1935\n",
       "6    1824\n",
       "11   1709\n",
       "13   1959\n",
       "14   1629\n",
       "..    ...\n",
       "965  1981\n",
       "970  1905\n",
       "981  1952\n",
       "990  1740\n",
       "997  1883\n",
       "\n",
       "[227 rows x 1 columns]"
      ]
     },
     "execution_count": 115,
     "metadata": {},
     "output_type": "execute_result"
    }
   ],
   "source": [
    "# First, find the times the simulation was a success:\n",
    "df_success = df_taylor[df_taylor.sim <= 2000]\n",
    "df_success"
   ]
  },
  {
   "cell_type": "code",
   "execution_count": 116,
   "metadata": {
    "nbgrader": {
     "grade": false,
     "grade_id": "cell-3cd0d620430a89ba",
     "locked": false,
     "schema_version": 3,
     "solution": true,
     "task": false
    }
   },
   "outputs": [
    {
     "data": {
      "text/plain": [
       "0.227"
      ]
     },
     "execution_count": 116,
     "metadata": {},
     "output_type": "execute_result"
    }
   ],
   "source": [
    "# Using the df_success DataFrame, find the probability of this occurring among all simulated concerts of 2,000 people:\n",
    "P_everyBirthday = len(df_success)/ len(df_taylor)\n",
    "P_everyBirthday"
   ]
  },
  {
   "cell_type": "markdown",
   "metadata": {},
   "source": [
    "## Puzzle 3.3: Distribution Histogram\n",
    "\n",
    "Create a simple histogram of your `df_taylor` results, showing the distribution of people needed in our simulation to account for every birthday."
   ]
  },
  {
   "cell_type": "code",
   "execution_count": 119,
   "metadata": {
    "nbgrader": {
     "grade": false,
     "grade_id": "cell-62147f75639a94d3",
     "locked": false,
     "schema_version": 3,
     "solution": true,
     "task": false
    }
   },
   "outputs": [
    {
     "data": {
      "text/plain": [
       "array([[<AxesSubplot:title={'center':'sim'}>]], dtype=object)"
      ]
     },
     "execution_count": 119,
     "metadata": {},
     "output_type": "execute_result"
    },
    {
     "data": {
      "image/png": "[encoded data removed]",
      "text/plain": [
       "<Figure size 432x288 with 1 Axes>"
      ]
     },
     "metadata": {
      "needs_background": "light"
     },
     "output_type": "display_data"
    }
   ],
   "source": [
    "# Create a histogram:\n",
    "df_taylor.hist(column = \"sim\")"
   ]
  },
  {
   "cell_type": "code",
   "execution_count": 120,
   "metadata": {
    "nbgrader": {
     "grade": true,
     "grade_id": "cell-1bae19913f8df080",
     "locked": true,
     "points": 0,
     "schema_version": 3,
     "solution": false,
     "task": false
    }
   },
   "outputs": [
    {
     "name": "stdout",
     "output_type": "stream",
     "text": [
      "🎉 All tests passed! 🎉\n",
      "\n",
      "Great! You figured it out. Now go start inviting people!\n"
     ]
    }
   ],
   "source": [
    "## == TEST CASES for Puzzle 3 ==\n",
    "# - This read-only cell contains test cases for your previous cell.\n",
    "# - If this cell runs without any error our output, you PASSED all test cases!\n",
    "# - If this cell results in any errors, check you previous cell, make changes, and RE-RUN your code and then this cell.\n",
    "\n",
    "assert( len(df_taylor) >= 1000 ), \"Ensure you have done at least 1,000 simulations.\"\n",
    "assert( len(df_success) > 0 ), \"Ensure your success includes all simulations with 2,000 or fewer people.\"\n",
    "assert( len(df_success) < len(df_taylor) ), \"Ensure your success includes all simulations with 2,000 or fewer people.\"\n",
    "assert( P_everyBirthday > 0.1 and P_everyBirthday < 1 ), \"Ensure `P_everyBirthday` is a probability.\"\n",
    "\n",
    "## == SUCCESS MESSAGE ==\n",
    "# You will only see this message (with the emoji showing) if you passed all test cases:\n",
    "tada = \"\\N{PARTY POPPER}\"\n",
    "print(f\"{tada} All tests passed! {tada}\")\n",
    "print()\n",
    "print(\"Great! You figured it out. Now go start inviting people!\")"
   ]
  },
  {
   "cell_type": "markdown",
   "metadata": {},
   "source": [
    "<hr style=\"color: #DD3403;\">"
   ]
  },
  {
   "cell_type": "markdown",
   "metadata": {},
   "source": [
    "# Puzzle 4: Olivia's Birthday Problem - Everyone Shares a Birthday\n",
    "\n",
    "Not wanting to be exactly like Taylor Swift, Olivia Rodrigo wants **everyone to share a birthday with at least one other person** AND **for every day of the year to be someone's birthday**.  We think that we will need an even bigger audience to make Olivia happy!\n",
    "\n",
    "Given a concert of `n` people, what is the probability that **all 365 days have at least one person with a birthday that day** and **that everyone shares their birthday with someone else**?\n",
    "\n",
    "We wrote another function to do this simulation! You can check out the code below, but all you need to know is that:\n",
    "\n",
    "> The `simulation_for_olivia` function returns one simulation of the number of people needed to satisfy Olivia's wishes!\n",
    "\n",
    "...you will need to **use this function**:"
   ]
  },
  {
   "cell_type": "code",
   "execution_count": 121,
   "metadata": {},
   "outputs": [],
   "source": [
    "# The `simulation_for_olivia` function returns one simulation of the number of people needed\n",
    "# to satisfy Olivia's wish for there to be someone with a birthday for every day of the year \n",
    "# and share a birthday with someone at her next concert!\n",
    "#\n",
    "# @return: One simulation of the number of people needed at the next concert.\n",
    "#   Examples: 3029, 2780, 3250, 2873, 2769, 2922, ...\n",
    "\n",
    "def simulation_for_olivia():\n",
    "    ct = 0   #< Count the number of people needed\n",
    "    day1 = 0  #< Count the current unique days found for the first person with the birthday\n",
    "    day2 = 0  #< Count the current unique days found for the second person with the birthday\n",
    "    \n",
    "    # While all 365 unique days have not been seen:\n",
    "    while (day1 < 365) | (day2 < 365):\n",
    "        # Add a person:\n",
    "        ct = ct + 1\n",
    "        \n",
    "        # Check if a random number is a new, unique day.\n",
    "        # - When day == 0, we've seen no unique days so P(unique day) == 1 as randint(0, 364) will always be `>= 0` (100%)\n",
    "        # - When day == 1, P(unique day) == (364/365) and we check if we get a number `>= 1` (any number but 0)\n",
    "        # - When day == 2, P(unique day) == (363/365) and we check if we get a number `>= 2` (anything but 0 or 1)\n",
    "        # - ...\n",
    "        # - When day == 364, P(unique day) == (1/365) so we need get randint(0, 364) to be exactly 364.\n",
    "        birthday = random.randint(0, 364)\n",
    "        if birthday >= day1:\n",
    "            day1 = day1 + 1\n",
    "        elif birthday >= day2:\n",
    "            day2 = day2 + 1\n",
    "            \n",
    "    # Return the number of people needed\n",
    "    return ct    "
   ]
  },
  {
   "cell_type": "markdown",
   "metadata": {},
   "source": [
    "## Puzzle 4.1: Run the already-complete simulation\n",
    "\n",
    "Run this next cell several times.  See the different number of people at Olivia's concert for everyone to have a birthday and share a birthday:"
   ]
  },
  {
   "cell_type": "code",
   "execution_count": 124,
   "metadata": {},
   "outputs": [
    {
     "data": {
      "text/plain": [
       "2698"
      ]
     },
     "execution_count": 124,
     "metadata": {},
     "output_type": "execute_result"
    }
   ],
   "source": [
    "simulation_for_olivia()"
   ]
  },
  {
   "cell_type": "markdown",
   "metadata": {},
   "source": [
    "## Puzzle 4.2: Collection Simulation Results\n",
    "\n",
    "Using `simulation_for_olivia` as the simulation, collect the results of running the simulation at least **1000** times and store the result in `df_olivia`:\n",
    "\n",
    "*(Note: This may take a few seconds or up to a minute to run on a slower laptop.  You may want to just run the simulation 10 times until your code works before changing to to 1,000.)*"
   ]
  },
  {
   "cell_type": "code",
   "execution_count": 126,
   "metadata": {},
   "outputs": [
    {
     "data": {
      "text/html": [
       "<div>\n",
       "<style scoped>\n",
       "    .dataframe tbody tr th:only-of-type {\n",
       "        vertical-align: middle;\n",
       "    }\n",
       "\n",
       "    .dataframe tbody tr th {\n",
       "        vertical-align: top;\n",
       "    }\n",
       "\n",
       "    .dataframe thead th {\n",
       "        text-align: right;\n",
       "    }\n",
       "</style>\n",
       "<table border=\"1\" class=\"dataframe\">\n",
       "  <thead>\n",
       "    <tr style=\"text-align: right;\">\n",
       "      <th></th>\n",
       "      <th>sim</th>\n",
       "    </tr>\n",
       "  </thead>\n",
       "  <tbody>\n",
       "    <tr>\n",
       "      <th>0</th>\n",
       "      <td>3058</td>\n",
       "    </tr>\n",
       "    <tr>\n",
       "      <th>1</th>\n",
       "      <td>3133</td>\n",
       "    </tr>\n",
       "    <tr>\n",
       "      <th>2</th>\n",
       "      <td>3732</td>\n",
       "    </tr>\n",
       "    <tr>\n",
       "      <th>3</th>\n",
       "      <td>3439</td>\n",
       "    </tr>\n",
       "    <tr>\n",
       "      <th>4</th>\n",
       "      <td>2972</td>\n",
       "    </tr>\n",
       "    <tr>\n",
       "      <th>...</th>\n",
       "      <td>...</td>\n",
       "    </tr>\n",
       "    <tr>\n",
       "      <th>995</th>\n",
       "      <td>3517</td>\n",
       "    </tr>\n",
       "    <tr>\n",
       "      <th>996</th>\n",
       "      <td>2558</td>\n",
       "    </tr>\n",
       "    <tr>\n",
       "      <th>997</th>\n",
       "      <td>2947</td>\n",
       "    </tr>\n",
       "    <tr>\n",
       "      <th>998</th>\n",
       "      <td>2696</td>\n",
       "    </tr>\n",
       "    <tr>\n",
       "      <th>999</th>\n",
       "      <td>3443</td>\n",
       "    </tr>\n",
       "  </tbody>\n",
       "</table>\n",
       "<p>1000 rows × 1 columns</p>\n",
       "</div>"
      ],
      "text/plain": [
       "      sim\n",
       "0    3058\n",
       "1    3133\n",
       "2    3732\n",
       "3    3439\n",
       "4    2972\n",
       "..    ...\n",
       "995  3517\n",
       "996  2558\n",
       "997  2947\n",
       "998  2696\n",
       "999  3443\n",
       "\n",
       "[1000 rows x 1 columns]"
      ]
     },
     "execution_count": 126,
     "metadata": {},
     "output_type": "execute_result"
    }
   ],
   "source": [
    "# Simulation code using the `simulation_for_olivia` function to run 1,000 times:\n",
    "data = []\n",
    "for i in range(1000):\n",
    "    sim = simulation_for_olivia()\n",
    "    d = {\"sim\": sim}\n",
    "    data.append(d)\n",
    "\n",
    "\n",
    "# Finally, create a DataFrame of simulation results:\n",
    "df_olivia = pd.DataFrame(data)\n",
    "df_olivia"
   ]
  },
  {
   "cell_type": "markdown",
   "metadata": {},
   "source": [
    "## Puzzle 4.3: Distribution Histogram\n",
    "\n",
    "Create a histogram of your `olivia` results, showing the distribution of people needed in our simulation to satisfy Olivia's wishes."
   ]
  },
  {
   "cell_type": "code",
   "execution_count": 127,
   "metadata": {},
   "outputs": [
    {
     "data": {
      "text/plain": [
       "array([[<AxesSubplot:title={'center':'sim'}>]], dtype=object)"
      ]
     },
     "execution_count": 127,
     "metadata": {},
     "output_type": "execute_result"
    },
    {
     "data": {
      "image/png": "[encoded data removed]",
      "text/plain": [
       "<Figure size 432x288 with 1 Axes>"
      ]
     },
     "metadata": {
      "needs_background": "light"
     },
     "output_type": "display_data"
    }
   ],
   "source": [
    "# Create a histogram:\n",
    "df_olivia.hist(column = \"sim\")"
   ]
  },
  {
   "cell_type": "markdown",
   "metadata": {},
   "source": [
    "## Puzzle 4.4: Estimate the Number of People Needed for Olivia's Next Concert\n",
    "\n",
    "We want the probability of Olivia being happy to know that every day of the year everyone shares their birthday with someone else to be at least **50%** for her next concert.  Using the histogram from your previous puzzle, find an estimate of how many people needs to be at Taylor's next concert:"
   ]
  },
  {
   "cell_type": "markdown",
   "metadata": {},
   "source": [
    "About 3,000 people"
   ]
  },
  {
   "cell_type": "markdown",
   "metadata": {},
   "source": [
    "## Puzzle 4.5: Finding the Probability For Your Estimate\n",
    "\n",
    "Using your simulation results from Puzzle 4.2 and your estimate from Puzzle 4.4, calculate an estimate for the probability that Olivia will be happy at her next concert:"
   ]
  },
  {
   "cell_type": "code",
   "execution_count": 131,
   "metadata": {},
   "outputs": [
    {
     "data": {
      "text/html": [
       "<div>\n",
       "<style scoped>\n",
       "    .dataframe tbody tr th:only-of-type {\n",
       "        vertical-align: middle;\n",
       "    }\n",
       "\n",
       "    .dataframe tbody tr th {\n",
       "        vertical-align: top;\n",
       "    }\n",
       "\n",
       "    .dataframe thead th {\n",
       "        text-align: right;\n",
       "    }\n",
       "</style>\n",
       "<table border=\"1\" class=\"dataframe\">\n",
       "  <thead>\n",
       "    <tr style=\"text-align: right;\">\n",
       "      <th></th>\n",
       "      <th>sim</th>\n",
       "    </tr>\n",
       "  </thead>\n",
       "  <tbody>\n",
       "    <tr>\n",
       "      <th>4</th>\n",
       "      <td>2972</td>\n",
       "    </tr>\n",
       "    <tr>\n",
       "      <th>5</th>\n",
       "      <td>2791</td>\n",
       "    </tr>\n",
       "    <tr>\n",
       "      <th>11</th>\n",
       "      <td>2611</td>\n",
       "    </tr>\n",
       "    <tr>\n",
       "      <th>13</th>\n",
       "      <td>2928</td>\n",
       "    </tr>\n",
       "    <tr>\n",
       "      <th>16</th>\n",
       "      <td>2679</td>\n",
       "    </tr>\n",
       "    <tr>\n",
       "      <th>...</th>\n",
       "      <td>...</td>\n",
       "    </tr>\n",
       "    <tr>\n",
       "      <th>993</th>\n",
       "      <td>2519</td>\n",
       "    </tr>\n",
       "    <tr>\n",
       "      <th>994</th>\n",
       "      <td>2694</td>\n",
       "    </tr>\n",
       "    <tr>\n",
       "      <th>996</th>\n",
       "      <td>2558</td>\n",
       "    </tr>\n",
       "    <tr>\n",
       "      <th>997</th>\n",
       "      <td>2947</td>\n",
       "    </tr>\n",
       "    <tr>\n",
       "      <th>998</th>\n",
       "      <td>2696</td>\n",
       "    </tr>\n",
       "  </tbody>\n",
       "</table>\n",
       "<p>406 rows × 1 columns</p>\n",
       "</div>"
      ],
      "text/plain": [
       "      sim\n",
       "4    2972\n",
       "5    2791\n",
       "11   2611\n",
       "13   2928\n",
       "16   2679\n",
       "..    ...\n",
       "993  2519\n",
       "994  2694\n",
       "996  2558\n",
       "997  2947\n",
       "998  2696\n",
       "\n",
       "[406 rows x 1 columns]"
      ]
     },
     "execution_count": 131,
     "metadata": {},
     "output_type": "execute_result"
    }
   ],
   "source": [
    "# First, find the times the simulation was a success:\n",
    "df_success2 = df_olivia[df_olivia.sim <= 3000]\n",
    "df_success2"
   ]
  },
  {
   "cell_type": "code",
   "execution_count": 132,
   "metadata": {},
   "outputs": [
    {
     "data": {
      "text/plain": [
       "0.406"
      ]
     },
     "execution_count": 132,
     "metadata": {},
     "output_type": "execute_result"
    }
   ],
   "source": [
    "# Using the df_success2 DataFrame, find the probability of this occurring among all of df_olivia:\n",
    "P_everyBirthdayShared = len(df_success2) / len(df_olivia)\n",
    "P_everyBirthdayShared"
   ]
  },
  {
   "cell_type": "code",
   "execution_count": 133,
   "metadata": {},
   "outputs": [
    {
     "name": "stdout",
     "output_type": "stream",
     "text": [
      "🎉 All tests passed! 🎉\n",
      "\n",
      "Great! You figured it out. Now go start inviting people!\n"
     ]
    }
   ],
   "source": [
    "## == TEST CASES for Puzzle 4 ==\n",
    "# - This read-only cell contains test cases for your previous cell.\n",
    "# - If this cell runs without any error our output, you PASSED all test cases!\n",
    "# - If this cell results in any errors, check you previous cell, make changes, and RE-RUN your code and then this cell.\n",
    "assert( len(df_olivia) >= 1000 ), \"Ensure you have done at least 1,000 simulations.\"\n",
    "assert( len(df_success2) > 0 ), \"Ensure your success includes all simulations with your median estimate or fewer people.\"\n",
    "assert( len(df_success2) < len(df_olivia) ), \"Ensure your success includes all simulations with your median estimate or fewer people.\"\n",
    "assert( P_everyBirthdayShared > 0.1 and P_everyBirthdayShared < 1 ), \"Ensure `P_everyBirthdayShared` is a probability.\"\n",
    "\n",
    "## == SUCCESS MESSAGE ==\n",
    "# You will only see this message (with the emoji showing) if you passed all test cases:\n",
    "tada = \"\\N{PARTY POPPER}\"\n",
    "print(f\"{tada} All tests passed! {tada}\")\n",
    "print()\n",
    "print(\"Great! You figured it out. Now go start inviting people!\")"
   ]
  },
  {
   "cell_type": "markdown",
   "metadata": {},
   "source": [
    "<hr style=\"color: #DD3403;\">"
   ]
  },
  {
   "cell_type": "markdown",
   "metadata": {},
   "source": [
    "# Submission\n",
    "\n",
    "You're almost done!  All you need to do is to commit your lab to GitHub:\n",
    "\n",
    "1.  ⚠️ **Make certain to save your work.** ⚠️ To do this, go to **File => Save All**\n",
    "\n",
    "2.  After you have saved, exit this notebook and follow the Canvas instructions to commit this lab to your Git repository!\n",
    "\n",
    "3. Your TA will grade your submission and provide you feedback after the lab is due. :)"
   ]
  },
  {
   "cell_type": "markdown",
   "metadata": {},
   "source": []
  }
 ],
 "metadata": {
  "celltoolbar": "Create Assignment",
  "kernelspec": {
   "display_name": "Python 3.9.12 ('base')",
   "language": "python",
   "name": "python3"
  },
  "language_info": {
   "codemirror_mode": {
    "name": "ipython",
    "version": 3
   },
   "file_extension": ".py",
   "mimetype": "text/x-python",
   "name": "python",
   "nbconvert_exporter": "python",
   "pygments_lexer": "ipython3",
   "version": "3.9.12"
  },
  "vscode": {
   "interpreter": {
    "hash": "abe02cd20ea510ba20bba73cf3f48e71b8b48b2904496573b4c2513db3286569"
   }
  }
 },
 "nbformat": 4,
 "nbformat_minor": 2
}
