{
 "cells": [
  {
   "cell_type": "markdown",
   "metadata": {},
   "source": [
    "# Lab 06: Gene Expression"
   ]
  },
  {
   "cell_type": "markdown",
   "metadata": {},
   "source": [
    "---\n",
    "author: Jakub Szumny\n",
    "date: October 18, 2024\n",
    "embed-resources: true\n",
    "---"
   ]
  },
  {
   "cell_type": "markdown",
   "metadata": {},
   "source": [
    "## Introduction"
   ]
  },
  {
   "cell_type": "markdown",
   "metadata": {},
   "source": [
    "Gene expression, the downstream of DNA, can give insight into the effects of DNA on phenotypical outcomes. This means that it can help with cancer detection which can significanlty improve survival. What we can look for in the gene expression, is the BRCA mutation, which is an example which can help better estimate the probability of developing breast cancer. As a data scientist working for a small biotechnology startup, I am tasked to explore the possibility of developing an universal cancer detection and classification model, using gene expression data. My goal is to simply work towards a proof of concept, and not to actually create a product. Knowing as the reader has worked with similar concepts as this report, I will not explain everything in huge detail. To do this I will be working with a classification machine learning model, and all the different gene expression."
   ]
  },
  {
   "cell_type": "markdown",
   "metadata": {},
   "source": [
    "## Methods"
   ]
  },
  {
   "cell_type": "code",
   "execution_count": 42,
   "metadata": {},
   "outputs": [],
   "source": [
    "# imports\n",
    "import pandas as pd\n",
    "import numpy as np\n",
    "import matplotlib.pyplot as plt\n",
    "import seaborn as sns\n",
    "\n",
    "# machine learning\n",
    "from sklearn.datasets import make_friedman1\n",
    "from sklearn.model_selection import train_test_split, GridSearchCV\n",
    "from sklearn.neighbors import KNeighborsRegressor, KNeighborsClassifier\n",
    "from sklearn.metrics import accuracy_score, root_mean_squared_error\n",
    "from sklearn.pipeline import Pipeline\n",
    "from sklearn.compose import ColumnTransformer\n",
    "from sklearn.impute import SimpleImputer\n",
    "from sklearn.preprocessing import OneHotEncoder, StandardScaler\n",
    "from sklearn.dummy import DummyRegressor\n",
    "from sklearn.linear_model import LinearRegression\n",
    "\n",
    "from sklearn.preprocessing import PolynomialFeatures, FunctionTransformer\n",
    "from sklearn.linear_model import LinearRegression, LogisticRegression\n",
    "from sklearn.ensemble import RandomForestRegressor"
   ]
  },
  {
   "cell_type": "markdown",
   "metadata": {},
   "source": [
    "### Data"
   ]
  },
  {
   "cell_type": "code",
   "execution_count": 43,
   "metadata": {},
   "outputs": [],
   "source": [
    "# load data\n",
    "cancer_train = pd.read_parquet(\n",
    "    \"https://cs307.org/lab-06/data/cancer-train.parquet\",\n",
    ")\n",
    "cancer_test = pd.read_parquet(\n",
    "    \"https://cs307.org/lab-06/data/cancer-test.parquet\",\n",
    ")"
   ]
  },
  {
   "cell_type": "code",
   "execution_count": 44,
   "metadata": {},
   "outputs": [
    {
     "data": {
      "text/html": [
       "<div>\n",
       "<style scoped>\n",
       "    .dataframe tbody tr th:only-of-type {\n",
       "        vertical-align: middle;\n",
       "    }\n",
       "\n",
       "    .dataframe tbody tr th {\n",
       "        vertical-align: top;\n",
       "    }\n",
       "\n",
       "    .dataframe thead th {\n",
       "        text-align: right;\n",
       "    }\n",
       "</style>\n",
       "<table border=\"1\" class=\"dataframe\">\n",
       "  <thead>\n",
       "    <tr style=\"text-align: right;\">\n",
       "      <th></th>\n",
       "      <th>cancer</th>\n",
       "      <th>gene_0</th>\n",
       "      <th>gene_1</th>\n",
       "      <th>gene_2</th>\n",
       "      <th>gene_3</th>\n",
       "      <th>gene_4</th>\n",
       "      <th>gene_5</th>\n",
       "      <th>gene_6</th>\n",
       "      <th>gene_7</th>\n",
       "      <th>gene_8</th>\n",
       "      <th>...</th>\n",
       "      <th>gene_1990</th>\n",
       "      <th>gene_1991</th>\n",
       "      <th>gene_1992</th>\n",
       "      <th>gene_1993</th>\n",
       "      <th>gene_1994</th>\n",
       "      <th>gene_1995</th>\n",
       "      <th>gene_1996</th>\n",
       "      <th>gene_1997</th>\n",
       "      <th>gene_1998</th>\n",
       "      <th>gene_1999</th>\n",
       "    </tr>\n",
       "  </thead>\n",
       "  <tbody>\n",
       "    <tr>\n",
       "      <th>0</th>\n",
       "      <td>BRCA</td>\n",
       "      <td>0.0</td>\n",
       "      <td>3.149861</td>\n",
       "      <td>1.913454</td>\n",
       "      <td>5.562355</td>\n",
       "      <td>9.638586</td>\n",
       "      <td>0.0</td>\n",
       "      <td>4.302421</td>\n",
       "      <td>0.511670</td>\n",
       "      <td>0.000000</td>\n",
       "      <td>...</td>\n",
       "      <td>7.300691</td>\n",
       "      <td>8.383307</td>\n",
       "      <td>1.187198</td>\n",
       "      <td>0.000000</td>\n",
       "      <td>7.350471</td>\n",
       "      <td>0.0</td>\n",
       "      <td>4.634587</td>\n",
       "      <td>7.082415</td>\n",
       "      <td>9.727447</td>\n",
       "      <td>1.187198</td>\n",
       "    </tr>\n",
       "    <tr>\n",
       "      <th>1</th>\n",
       "      <td>LUAD</td>\n",
       "      <td>0.0</td>\n",
       "      <td>6.237034</td>\n",
       "      <td>5.043235</td>\n",
       "      <td>6.297397</td>\n",
       "      <td>10.391415</td>\n",
       "      <td>0.0</td>\n",
       "      <td>7.669941</td>\n",
       "      <td>0.913033</td>\n",
       "      <td>0.000000</td>\n",
       "      <td>...</td>\n",
       "      <td>6.322446</td>\n",
       "      <td>7.815595</td>\n",
       "      <td>13.809095</td>\n",
       "      <td>0.913033</td>\n",
       "      <td>7.651052</td>\n",
       "      <td>0.0</td>\n",
       "      <td>7.476074</td>\n",
       "      <td>4.733739</td>\n",
       "      <td>8.510863</td>\n",
       "      <td>0.000000</td>\n",
       "    </tr>\n",
       "    <tr>\n",
       "      <th>2</th>\n",
       "      <td>BRCA</td>\n",
       "      <td>0.0</td>\n",
       "      <td>3.856896</td>\n",
       "      <td>2.394981</td>\n",
       "      <td>6.758277</td>\n",
       "      <td>9.585513</td>\n",
       "      <td>0.0</td>\n",
       "      <td>7.409009</td>\n",
       "      <td>1.242023</td>\n",
       "      <td>0.000000</td>\n",
       "      <td>...</td>\n",
       "      <td>6.845515</td>\n",
       "      <td>9.194823</td>\n",
       "      <td>5.667696</td>\n",
       "      <td>0.000000</td>\n",
       "      <td>7.748253</td>\n",
       "      <td>0.0</td>\n",
       "      <td>5.567421</td>\n",
       "      <td>5.203158</td>\n",
       "      <td>7.364879</td>\n",
       "      <td>0.000000</td>\n",
       "    </tr>\n",
       "    <tr>\n",
       "      <th>3</th>\n",
       "      <td>PRAD</td>\n",
       "      <td>0.0</td>\n",
       "      <td>4.279924</td>\n",
       "      <td>3.606963</td>\n",
       "      <td>5.706613</td>\n",
       "      <td>9.716581</td>\n",
       "      <td>0.0</td>\n",
       "      <td>8.244226</td>\n",
       "      <td>0.402613</td>\n",
       "      <td>0.000000</td>\n",
       "      <td>...</td>\n",
       "      <td>6.598611</td>\n",
       "      <td>8.199118</td>\n",
       "      <td>5.024218</td>\n",
       "      <td>0.000000</td>\n",
       "      <td>7.607907</td>\n",
       "      <td>0.0</td>\n",
       "      <td>5.705281</td>\n",
       "      <td>6.278007</td>\n",
       "      <td>9.725383</td>\n",
       "      <td>0.000000</td>\n",
       "    </tr>\n",
       "    <tr>\n",
       "      <th>4</th>\n",
       "      <td>BRCA</td>\n",
       "      <td>0.0</td>\n",
       "      <td>3.359788</td>\n",
       "      <td>4.199986</td>\n",
       "      <td>6.144766</td>\n",
       "      <td>9.141834</td>\n",
       "      <td>0.0</td>\n",
       "      <td>9.014135</td>\n",
       "      <td>1.061776</td>\n",
       "      <td>0.626486</td>\n",
       "      <td>...</td>\n",
       "      <td>7.062651</td>\n",
       "      <td>9.670708</td>\n",
       "      <td>4.243707</td>\n",
       "      <td>0.000000</td>\n",
       "      <td>8.156811</td>\n",
       "      <td>0.0</td>\n",
       "      <td>7.363487</td>\n",
       "      <td>5.384844</td>\n",
       "      <td>8.703443</td>\n",
       "      <td>1.894876</td>\n",
       "    </tr>\n",
       "    <tr>\n",
       "      <th>...</th>\n",
       "      <td>...</td>\n",
       "      <td>...</td>\n",
       "      <td>...</td>\n",
       "      <td>...</td>\n",
       "      <td>...</td>\n",
       "      <td>...</td>\n",
       "      <td>...</td>\n",
       "      <td>...</td>\n",
       "      <td>...</td>\n",
       "      <td>...</td>\n",
       "      <td>...</td>\n",
       "      <td>...</td>\n",
       "      <td>...</td>\n",
       "      <td>...</td>\n",
       "      <td>...</td>\n",
       "      <td>...</td>\n",
       "      <td>...</td>\n",
       "      <td>...</td>\n",
       "      <td>...</td>\n",
       "      <td>...</td>\n",
       "      <td>...</td>\n",
       "    </tr>\n",
       "    <tr>\n",
       "      <th>123</th>\n",
       "      <td>KIRC</td>\n",
       "      <td>0.0</td>\n",
       "      <td>3.069737</td>\n",
       "      <td>3.623200</td>\n",
       "      <td>6.744955</td>\n",
       "      <td>9.591219</td>\n",
       "      <td>0.0</td>\n",
       "      <td>7.254254</td>\n",
       "      <td>0.000000</td>\n",
       "      <td>0.000000</td>\n",
       "      <td>...</td>\n",
       "      <td>7.333665</td>\n",
       "      <td>8.365334</td>\n",
       "      <td>5.481444</td>\n",
       "      <td>0.000000</td>\n",
       "      <td>7.307674</td>\n",
       "      <td>0.0</td>\n",
       "      <td>5.723447</td>\n",
       "      <td>5.401791</td>\n",
       "      <td>9.067881</td>\n",
       "      <td>0.000000</td>\n",
       "    </tr>\n",
       "    <tr>\n",
       "      <th>124</th>\n",
       "      <td>BRCA</td>\n",
       "      <td>0.0</td>\n",
       "      <td>3.534497</td>\n",
       "      <td>3.064866</td>\n",
       "      <td>6.638882</td>\n",
       "      <td>10.010206</td>\n",
       "      <td>0.0</td>\n",
       "      <td>7.899387</td>\n",
       "      <td>0.000000</td>\n",
       "      <td>0.000000</td>\n",
       "      <td>...</td>\n",
       "      <td>7.080615</td>\n",
       "      <td>9.968912</td>\n",
       "      <td>10.501041</td>\n",
       "      <td>0.000000</td>\n",
       "      <td>8.866052</td>\n",
       "      <td>0.0</td>\n",
       "      <td>5.276806</td>\n",
       "      <td>4.941073</td>\n",
       "      <td>8.548240</td>\n",
       "      <td>0.000000</td>\n",
       "    </tr>\n",
       "    <tr>\n",
       "      <th>125</th>\n",
       "      <td>BRCA</td>\n",
       "      <td>0.0</td>\n",
       "      <td>4.087463</td>\n",
       "      <td>3.786596</td>\n",
       "      <td>6.385845</td>\n",
       "      <td>9.544964</td>\n",
       "      <td>0.0</td>\n",
       "      <td>8.062856</td>\n",
       "      <td>0.000000</td>\n",
       "      <td>0.000000</td>\n",
       "      <td>...</td>\n",
       "      <td>5.842979</td>\n",
       "      <td>9.931033</td>\n",
       "      <td>10.234817</td>\n",
       "      <td>0.000000</td>\n",
       "      <td>8.384568</td>\n",
       "      <td>0.0</td>\n",
       "      <td>7.033423</td>\n",
       "      <td>5.749534</td>\n",
       "      <td>8.132371</td>\n",
       "      <td>0.000000</td>\n",
       "    </tr>\n",
       "    <tr>\n",
       "      <th>126</th>\n",
       "      <td>LUAD</td>\n",
       "      <td>0.0</td>\n",
       "      <td>3.272889</td>\n",
       "      <td>4.529234</td>\n",
       "      <td>7.134909</td>\n",
       "      <td>9.504362</td>\n",
       "      <td>0.0</td>\n",
       "      <td>5.668893</td>\n",
       "      <td>0.000000</td>\n",
       "      <td>0.000000</td>\n",
       "      <td>...</td>\n",
       "      <td>7.300966</td>\n",
       "      <td>8.040350</td>\n",
       "      <td>11.972872</td>\n",
       "      <td>0.000000</td>\n",
       "      <td>7.592607</td>\n",
       "      <td>0.0</td>\n",
       "      <td>5.026256</td>\n",
       "      <td>6.137704</td>\n",
       "      <td>8.780947</td>\n",
       "      <td>1.167936</td>\n",
       "    </tr>\n",
       "    <tr>\n",
       "      <th>127</th>\n",
       "      <td>KIRC</td>\n",
       "      <td>0.0</td>\n",
       "      <td>3.217851</td>\n",
       "      <td>2.142315</td>\n",
       "      <td>6.024548</td>\n",
       "      <td>9.537583</td>\n",
       "      <td>0.0</td>\n",
       "      <td>7.910391</td>\n",
       "      <td>1.974419</td>\n",
       "      <td>0.000000</td>\n",
       "      <td>...</td>\n",
       "      <td>7.372552</td>\n",
       "      <td>8.358203</td>\n",
       "      <td>4.966864</td>\n",
       "      <td>0.406537</td>\n",
       "      <td>7.673309</td>\n",
       "      <td>0.0</td>\n",
       "      <td>5.561448</td>\n",
       "      <td>5.163124</td>\n",
       "      <td>8.101991</td>\n",
       "      <td>1.849679</td>\n",
       "    </tr>\n",
       "  </tbody>\n",
       "</table>\n",
       "<p>128 rows × 2001 columns</p>\n",
       "</div>"
      ],
      "text/plain": [
       "    cancer  gene_0    gene_1    gene_2    gene_3     gene_4  gene_5    gene_6  \\\n",
       "0     BRCA     0.0  3.149861  1.913454  5.562355   9.638586     0.0  4.302421   \n",
       "1     LUAD     0.0  6.237034  5.043235  6.297397  10.391415     0.0  7.669941   \n",
       "2     BRCA     0.0  3.856896  2.394981  6.758277   9.585513     0.0  7.409009   \n",
       "3     PRAD     0.0  4.279924  3.606963  5.706613   9.716581     0.0  8.244226   \n",
       "4     BRCA     0.0  3.359788  4.199986  6.144766   9.141834     0.0  9.014135   \n",
       "..     ...     ...       ...       ...       ...        ...     ...       ...   \n",
       "123   KIRC     0.0  3.069737  3.623200  6.744955   9.591219     0.0  7.254254   \n",
       "124   BRCA     0.0  3.534497  3.064866  6.638882  10.010206     0.0  7.899387   \n",
       "125   BRCA     0.0  4.087463  3.786596  6.385845   9.544964     0.0  8.062856   \n",
       "126   LUAD     0.0  3.272889  4.529234  7.134909   9.504362     0.0  5.668893   \n",
       "127   KIRC     0.0  3.217851  2.142315  6.024548   9.537583     0.0  7.910391   \n",
       "\n",
       "       gene_7    gene_8  ...  gene_1990  gene_1991  gene_1992  gene_1993  \\\n",
       "0    0.511670  0.000000  ...   7.300691   8.383307   1.187198   0.000000   \n",
       "1    0.913033  0.000000  ...   6.322446   7.815595  13.809095   0.913033   \n",
       "2    1.242023  0.000000  ...   6.845515   9.194823   5.667696   0.000000   \n",
       "3    0.402613  0.000000  ...   6.598611   8.199118   5.024218   0.000000   \n",
       "4    1.061776  0.626486  ...   7.062651   9.670708   4.243707   0.000000   \n",
       "..        ...       ...  ...        ...        ...        ...        ...   \n",
       "123  0.000000  0.000000  ...   7.333665   8.365334   5.481444   0.000000   \n",
       "124  0.000000  0.000000  ...   7.080615   9.968912  10.501041   0.000000   \n",
       "125  0.000000  0.000000  ...   5.842979   9.931033  10.234817   0.000000   \n",
       "126  0.000000  0.000000  ...   7.300966   8.040350  11.972872   0.000000   \n",
       "127  1.974419  0.000000  ...   7.372552   8.358203   4.966864   0.406537   \n",
       "\n",
       "     gene_1994  gene_1995  gene_1996  gene_1997  gene_1998  gene_1999  \n",
       "0     7.350471        0.0   4.634587   7.082415   9.727447   1.187198  \n",
       "1     7.651052        0.0   7.476074   4.733739   8.510863   0.000000  \n",
       "2     7.748253        0.0   5.567421   5.203158   7.364879   0.000000  \n",
       "3     7.607907        0.0   5.705281   6.278007   9.725383   0.000000  \n",
       "4     8.156811        0.0   7.363487   5.384844   8.703443   1.894876  \n",
       "..         ...        ...        ...        ...        ...        ...  \n",
       "123   7.307674        0.0   5.723447   5.401791   9.067881   0.000000  \n",
       "124   8.866052        0.0   5.276806   4.941073   8.548240   0.000000  \n",
       "125   8.384568        0.0   7.033423   5.749534   8.132371   0.000000  \n",
       "126   7.592607        0.0   5.026256   6.137704   8.780947   1.167936  \n",
       "127   7.673309        0.0   5.561448   5.163124   8.101991   1.849679  \n",
       "\n",
       "[128 rows x 2001 columns]"
      ]
     },
     "execution_count": 44,
     "metadata": {},
     "output_type": "execute_result"
    }
   ],
   "source": [
    "cancer_train"
   ]
  },
  {
   "cell_type": "markdown",
   "metadata": {},
   "source": [
    "The data I will be working with is a gene expression and clinical outcome dataset. The data is from the Cancer Genome Atlas Pan-Cancer Analysis Project, and was accessed via synapse.org. The specific data for this research was collected and modified based on a submission to the UCI Irvine Machine Learning Repository.\n",
    "\n",
    "The dataset includes:"
   ]
  },
  {
   "cell_type": "markdown",
   "metadata": {},
   "source": [
    "## Response\n",
    "\n",
    "- **cancer** `[object]`:  \n",
    "  The clinically determined cancer type, represented as one of the following:\n",
    "  - **BRCA**: Breast Invasive Carcinoma\n",
    "  - **PRAD**: Prostate Adenocarcinoma\n",
    "  - **KIRC**: Kidney Renal Clear Cell Carcinoma\n",
    "  - **LUAD**: Lung Adenocarcinoma\n",
    "  - **COAD**: Colon Adenocarcinoma\n",
    "\n",
    "## Features\n",
    "\n",
    "- **gene_** `[float64]`:  \n",
    "  Gene expression quantification values, as measured by an Illumina HiSeq platform."
   ]
  },
  {
   "cell_type": "code",
   "execution_count": 45,
   "metadata": {},
   "outputs": [
    {
     "name": "stdout",
     "output_type": "stream",
     "text": [
      "Num of Samples:  128\n",
      "Num of Features 2000\n"
     ]
    }
   ],
   "source": [
    "# summary statistics\n",
    "print(\"Num of Samples: \", len(cancer_train))\n",
    "print(\"Num of Features\", cancer_train.shape[1] - 1)"
   ]
  },
  {
   "cell_type": "code",
   "execution_count": 46,
   "metadata": {},
   "outputs": [
    {
     "data": {
      "image/png": "[encoded data removed]",
      "text/plain": [
       "<Figure size 640x480 with 1 Axes>"
      ]
     },
     "metadata": {},
     "output_type": "display_data"
    }
   ],
   "source": [
    "# visualizations\n",
    "X = cancer_train.filter(regex=\"gene_\")\n",
    "y = cancer_train['cancer']\n",
    "median = X.median(axis=1)\n",
    "cancer_train['median'] = median\n",
    "cancer_train.boxplot(column='median', by='cancer', grid=False)\n",
    "plt.xlabel(\"Cancer Type\")\n",
    "plt.ylabel(\"Median Gene Expression\")\n",
    "plt.show()\n",
    "cancer_train = cancer_train.drop(columns='median')\n",
    "\n"
   ]
  },
  {
   "cell_type": "markdown",
   "metadata": {},
   "source": [
    "Based off of the summary statistics and visualizations, we can see how since there are 2000 different features, of all a similar type, it will be pretty simple to visualize this. Above I used a boxplot using the median gene expression vs the cancer type to see differences in the genes. As we can see the medians are pretty different for each different cancer type, which shows that there could be a possible difference that a model could possibly use to make predictions."
   ]
  },
  {
   "cell_type": "markdown",
   "metadata": {},
   "source": [
    "### Models"
   ]
  },
  {
   "cell_type": "code",
   "execution_count": 47,
   "metadata": {},
   "outputs": [],
   "source": [
    "# process data for ML\n",
    "# create X and y for train\n",
    "X_train = cancer_train.drop(columns=[\"cancer\"])\n",
    "y_train = cancer_train[\"cancer\"]\n",
    "\n",
    "# create X and y for test\n",
    "X_test = cancer_test.drop(columns=[\"cancer\"])\n",
    "y_test = cancer_test[\"cancer\"]"
   ]
  },
  {
   "cell_type": "code",
   "execution_count": 48,
   "metadata": {},
   "outputs": [],
   "source": [
    "# train models\n",
    "categorical_features = X_train.select_dtypes(include=['object', 'category']).columns.tolist()\n",
    "numeric_features = X_train.select_dtypes(include=['int', 'float']).columns.tolist()\n",
    "\n",
    "# define preprocessing for numeric features\n",
    "numeric_transformer = Pipeline(\n",
    "    steps=[\n",
    "        (\"imputer\", SimpleImputer(strategy=\"mean\")),\n",
    "        (\"scaler\", StandardScaler()),\n",
    "    ]\n",
    ")\n",
    "\n",
    "# define preprocessing for categorical features\n",
    "categorical_transformer = Pipeline(\n",
    "    steps=[\n",
    "        (\"imputer\", SimpleImputer(strategy=\"most_frequent\")),\n",
    "        (\"onehot\", OneHotEncoder()),\n",
    "    ]\n",
    ")\n",
    "\n",
    "# combine preprocessing steps\n",
    "preprocessor = ColumnTransformer(\n",
    "    transformers=[\n",
    "        (\"num\", numeric_transformer, numeric_features),\n",
    "        (\"cat\", categorical_transformer, categorical_features),\n",
    "    ]\n",
    ")\n",
    "\n",
    "# create pipeline, preprocess then classify\n",
    "pipeline = Pipeline(\n",
    "    steps=[\n",
    "        (\"preprocessor\", preprocessor),\n",
    "        (\"classifier\", KNeighborsClassifier()),\n",
    "    ]\n",
    ")"
   ]
  },
  {
   "cell_type": "code",
   "execution_count": 49,
   "metadata": {},
   "outputs": [
    {
     "name": "stdout",
     "output_type": "stream",
     "text": [
      "Best parameters: {'classifier__metric': 'euclidean', 'classifier__n_neighbors': 3, 'preprocessor__cat__onehot__drop': None, 'preprocessor__num__scaler': None}\n",
      "Best cross-validation accuracy: 0.9923076923076923\n"
     ]
    }
   ],
   "source": [
    "# define parameter grid\n",
    "param_grid = {\n",
    "    \"preprocessor__cat__onehot__drop\": [None, \"first\"],\n",
    "    \"preprocessor__num__scaler\": [None, StandardScaler()],\n",
    "    \"classifier__n_neighbors\": [3, 5, 7, 9, 11],\n",
    "    \"classifier__metric\": [\"euclidean\", \"manhattan\"],\n",
    "}\n",
    "\n",
    "# setup grid search with cross-validation\n",
    "grid_search = GridSearchCV(pipeline, param_grid, cv=5, scoring=\"accuracy\")\n",
    "\n",
    "# run grid search with cross-validation\n",
    "grid_search.fit(X_train, y_train)\n",
    "\n",
    "# print best parameters found and best (cross-validated) score\n",
    "print(f\"Best parameters: {grid_search.best_params_}\")\n",
    "print(f\"Best cross-validation accuracy: {grid_search.best_score_}\")"
   ]
  },
  {
   "cell_type": "markdown",
   "metadata": {},
   "source": [
    "Here I used a pipeline and a grid search cross validation to find the best parameters for this model, using a KNearestNeighbors Classifier. I found that the best metric to use is euclidean, and the best n_neighbors is 3. From this I got a best cross-validation accuracy of 0.9923, which is incredibly good"
   ]
  },
  {
   "cell_type": "markdown",
   "metadata": {},
   "source": [
    "## Results"
   ]
  },
  {
   "cell_type": "code",
   "execution_count": 50,
   "metadata": {},
   "outputs": [
    {
     "name": "stdout",
     "output_type": "stream",
     "text": [
      "Test set accuracy: 1.0\n"
     ]
    },
    {
     "data": {
      "text/plain": [
       "['gene-expression.joblib']"
      ]
     },
     "execution_count": 50,
     "metadata": {},
     "output_type": "execute_result"
    }
   ],
   "source": [
    "# report model metrics\n",
    "best =  grid_search.best_estimator_\n",
    "y_pred = best.predict(X_test)\n",
    "print(f\"Test set accuracy: {accuracy_score(y_test, y_pred)}\")\n",
    "\n",
    "from joblib import dump\n",
    "dump(best, \"gene-expression.joblib\")"
   ]
  },
  {
   "cell_type": "markdown",
   "metadata": {},
   "source": [
    "On the test set, the model recieved a 1.0 test set accuracy is a perfect accuracy on this completeley new set of data which is amazing."
   ]
  },
  {
   "cell_type": "markdown",
   "metadata": {},
   "source": [
    "## Discussion"
   ]
  },
  {
   "cell_type": "markdown",
   "metadata": {},
   "source": [
    "After receiving a test set accuracy of 1.0, I can definitely say the model is very good, and it definitely shows a proof of concept, and this could definitely be made a reality.\n",
    "\n",
    "After making this very promising model that achieves a perfect accuracy on the test set, the next steps to do would definitely to introduce much more different cancers to the dataset, if not all cancers, which would allow the model to train on all the different types of cancer. As this model has a perfect accuracy, that model seemingly would do very well as well, but I'm sure there are some cancers which are very similar to one another on the gene level, so that could be a disadvantage to the model.\n",
    "\n",
    "Another next step could be to group together many different cancers, and make individual models for each of those, hopefully all reaching a 1.0 accuracy. This hopefully would be able to used to predict any cancer, but it could also possibly falsly predict cancers, with the same problem as before.\n",
    "\n"
   ]
  },
  {
   "cell_type": "markdown",
   "metadata": {},
   "source": [
    "### Conclusion"
   ]
  },
  {
   "cell_type": "markdown",
   "metadata": {},
   "source": [
    "To conclude, given the highly accurate performance of this model, I would definitely say that there is proof of concept, and that this could definitely be made into a real model in the future. There will be challenges that arise with introducing different cancers to the dataset, but if it is taken step by step, this could be a very good cancer predictor. Obviously, I would not recommend this current model for use in the real world, as it is only trained and tested on a select few different cancers, but once it is introduced to more types, and also if it recieves a very good accuracy, it could definitely be used in the real world then. It is very important for the model to have a 100% accuracy, as there is no room for error in the medical world, as it could result in serious consequences."
   ]
  }
 ],
 "metadata": {
  "kernelspec": {
   "display_name": "Python 3",
   "language": "python",
   "name": "python3"
  },
  "language_info": {
   "codemirror_mode": {
    "name": "ipython",
    "version": 3
   },
   "file_extension": ".py",
   "mimetype": "text/x-python",
   "name": "python",
   "nbconvert_exporter": "python",
   "pygments_lexer": "ipython3",
   "version": "3.12.1"
  }
 },
 "nbformat": 4,
 "nbformat_minor": 2
}
