{
 "cells": [
  {
   "cell_type": "markdown",
   "metadata": {},
   "source": [
    "# Lab 08: Airline Tweets Sentiment Analysis"
   ]
  },
  {
   "cell_type": "markdown",
   "metadata": {},
   "source": [
    "---\n",
    "author: Jakub Szumny\n",
    "date: November 8, 2024\n",
    "embed-resources: true\n",
    "---"
   ]
  },
  {
   "cell_type": "markdown",
   "metadata": {},
   "source": [
    "## Introduction"
   ]
  },
  {
   "cell_type": "markdown",
   "metadata": {},
   "source": [
    "Many times, a person's air-travel experience can be miserable, and so many times this results in these people going to Twitter to complain and seek support from customer service. As a data scientist working for the social team of a major US airline, I am tasked with building a sentiment classifier that will alert customer service representatives to respond to negative tweets, and for positive tweets to automatically be acknowledged. The goal is to develop a model that can accurately classify tweets as negative, neutral, or positive."
   ]
  },
  {
   "cell_type": "markdown",
   "metadata": {},
   "source": [
    "## Methods"
   ]
  },
  {
   "cell_type": "code",
   "execution_count": 2,
   "metadata": {},
   "outputs": [],
   "source": [
    "# imports\n",
    "import pandas as pd\n",
    "import numpy as np\n",
    "import matplotlib.pyplot as plt\n",
    "import seaborn as sns\n",
    "from sklearn.feature_extraction.text import CountVectorizer\n",
    "\n",
    "# machine learning\n",
    "from sklearn.datasets import make_friedman1\n",
    "from sklearn.model_selection import train_test_split, GridSearchCV\n",
    "from sklearn.neighbors import KNeighborsRegressor, KNeighborsClassifier\n",
    "from sklearn.metrics import accuracy_score, root_mean_squared_error\n",
    "from sklearn.pipeline import Pipeline\n",
    "from sklearn.compose import ColumnTransformer\n",
    "from sklearn.impute import SimpleImputer\n",
    "from sklearn.preprocessing import OneHotEncoder, StandardScaler\n",
    "from sklearn.dummy import DummyRegressor\n",
    "from sklearn.linear_model import LinearRegression\n",
    "from sklearn.preprocessing import PolynomialFeatures, FunctionTransformer\n",
    "from sklearn.linear_model import LinearRegression, LogisticRegression\n",
    "from sklearn.ensemble import RandomForestRegressor, RandomForestClassifier"
   ]
  },
  {
   "cell_type": "markdown",
   "metadata": {},
   "source": [
    "### Data"
   ]
  },
  {
   "cell_type": "code",
   "execution_count": 16,
   "metadata": {},
   "outputs": [
    {
     "data": {
      "text/plain": [
       "(      sentiment         airline  \\\n",
       " 2233   positive           Delta   \n",
       " 10733  negative          United   \n",
       " 400     neutral      US Airways   \n",
       " 7615   positive          United   \n",
       " 4099   negative        American   \n",
       " ...         ...             ...   \n",
       " 5734   negative          United   \n",
       " 5191    neutral  Virgin America   \n",
       " 5390   negative          United   \n",
       " 860     neutral  Virgin America   \n",
       " 7270   negative          United   \n",
       " \n",
       "                                                     text  \n",
       " 2233   @JetBlue Then en route to the airport the rebo...  \n",
       " 10733  @united now you've lost my bags too.  At least...  \n",
       " 400    @USAirways Hi, can you attach my AA FF# 94LXA6...  \n",
       " 7615   @United, will you fill it? Yes they will. Than...  \n",
       " 4099   @AmericanAir thanks! I hope we get movies. Tv'...  \n",
       " ...                                                  ...  \n",
       " 5734   @united Can i get a refund? I would like to bo...  \n",
       " 5191   @VirginAmerica what is your policy on flying a...  \n",
       " 5390   @united I'm not sure how you can help. Your fl...  \n",
       " 860    @VirginAmerica LAX to EWR - Middle seat on a r...  \n",
       " 7270   @united Hopefully my baggage fees will be waiv...  \n",
       " \n",
       " [8235 rows x 3 columns],\n",
       " 2233     @JetBlue Then en route to the airport the rebo...\n",
       " 10733    @united now you've lost my bags too.  At least...\n",
       " 400      @USAirways Hi, can you attach my AA FF# 94LXA6...\n",
       " 7615     @United, will you fill it? Yes they will. Than...\n",
       " 4099     @AmericanAir thanks! I hope we get movies. Tv'...\n",
       "                                ...                        \n",
       " 5734     @united Can i get a refund? I would like to bo...\n",
       " 5191     @VirginAmerica what is your policy on flying a...\n",
       " 5390     @united I'm not sure how you can help. Your fl...\n",
       " 860      @VirginAmerica LAX to EWR - Middle seat on a r...\n",
       " 7270     @united Hopefully my baggage fees will be waiv...\n",
       " Name: text, Length: 8235, dtype: object)"
      ]
     },
     "execution_count": 16,
     "metadata": {},
     "output_type": "execute_result"
    }
   ],
   "source": [
    "# load data\n",
    "tweets = pd.read_csv(\n",
    "    \"https://cs307.org/lab-08/data/tweets.csv\",\n",
    ")\n",
    "\n",
    "tweets_train, tweets_test = train_test_split(\n",
    "    tweets,\n",
    "    test_size=0.25,\n",
    "    random_state=42,\n",
    ")\n",
    "\n",
    "# create X and y for train data\n",
    "X_train = tweets_train[\"text\"]\n",
    "y_train = tweets_train[\"sentiment\"]\n",
    "\n",
    "# create X and y for test data\n",
    "X_test = tweets_test[\"text\"]\n",
    "y_test = tweets_test[\"sentiment\"]\n",
    "\n",
    "tweets_train, X_train"
   ]
  },
  {
   "cell_type": "markdown",
   "metadata": {},
   "source": [
    "The airline tweet sentiment data is from the Twitter US Airline Sentiment Data which has been provided for me, which originially comes from Kaggle. The data has been slighlty modified, only to contain the sentiment, text, and the airline variables. The dataset contains one response variable, and two feature variables.\n",
    "\n",
    "The dataset includes:"
   ]
  },
  {
   "cell_type": "markdown",
   "metadata": {},
   "source": [
    "## Response\n",
    "- **sentiment** `[object]`:  \n",
    "  The sentiment of the tweet. One of `negative`, `neutral`, or `positive`.\n",
    "\n",
    "## Features\n",
    "- **text** `[object]`:  \n",
    "  The full text of the tweet.\n",
    "\n",
    "## Additional Variables\n",
    "- **airline** `[object]`:  \n",
    "  The airline the tweet was “sent” to."
   ]
  },
  {
   "cell_type": "code",
   "execution_count": 12,
   "metadata": {},
   "outputs": [
    {
     "name": "stdout",
     "output_type": "stream",
     "text": [
      "Num Samples: 8235\n",
      "Num Features: 2\n"
     ]
    }
   ],
   "source": [
    "# summary statistics\n",
    "print(\"Num Samples:\", len(tweets_train))\n",
    "print(\"Num Features:\", tweets_train.shape[1]-1)"
   ]
  },
  {
   "cell_type": "code",
   "execution_count": 13,
   "metadata": {},
   "outputs": [
    {
     "name": "stdout",
     "output_type": "stream",
     "text": [
      "Counts: airline\n",
      "American          1551\n",
      "Delta             1239\n",
      "Southwest         1347\n",
      "US Airways        1664\n",
      "United            2166\n",
      "Virgin America     268\n",
      "dtype: int64\n",
      "Proportions: airline\n",
      "American          0.188342\n",
      "Delta             0.150455\n",
      "Southwest         0.163570\n",
      "US Airways        0.202064\n",
      "United            0.263024\n",
      "Virgin America    0.032544\n",
      "dtype: float64\n"
     ]
    }
   ],
   "source": [
    "prop = tweets_train.groupby(\"airline\").size()\n",
    "print(\"Counts:\", prop)\n",
    "print(\"Proportions:\", (prop/prop.sum()))"
   ]
  },
  {
   "cell_type": "code",
   "execution_count": 14,
   "metadata": {},
   "outputs": [
    {
     "name": "stdout",
     "output_type": "stream",
     "text": [
      "The Word \"cancelled\" Appears: 595\n",
      "The Word \"please\" Appears: 325\n",
      "The Word \"thanks\" Appears: 587\n"
     ]
    }
   ],
   "source": [
    "word_counter = CountVectorizer()\n",
    "\n",
    "words = word_counter.fit_transform(X_train)\n",
    "\n",
    "cancelled_idx = np.where(word_counter.get_feature_names_out() == \"cancelled\")\n",
    "cancelled_count = np.sum(words.todense()[:, cancelled_idx])\n",
    "print('The Word \"cancelled\" Appears:', cancelled_count)\n",
    "\n",
    "please_idx = np.where(word_counter.get_feature_names_out() == \"please\")\n",
    "please_count = np.sum(words.todense()[:, please_idx])\n",
    "print('The Word \"please\" Appears:', please_count)\n",
    "\n",
    "thanks_idx = np.where(word_counter.get_feature_names_out() == \"thanks\")\n",
    "thanks_count = np.sum(words.todense()[:, thanks_idx])\n",
    "print('The Word \"thanks\" Appears:', thanks_count)"
   ]
  },
  {
   "cell_type": "code",
   "execution_count": 15,
   "metadata": {},
   "outputs": [
    {
     "data": {
      "image/png": "[encoded data removed]",
      "text/plain": [
       "<Figure size 640x480 with 1 Axes>"
      ]
     },
     "metadata": {},
     "output_type": "display_data"
    }
   ],
   "source": [
    "# visualizations\n",
    "sns.countplot(data=tweets_train, x='airline', hue='sentiment')\n",
    "plt.title('Sentiment by Airline')\n",
    "plt.xlabel('Airline')\n",
    "plt.ylabel('Count of Tweets')\n",
    "plt.show()\n",
    "\n"
   ]
  },
  {
   "cell_type": "markdown",
   "metadata": {},
   "source": [
    "Based off of the summary statistics, we can see that the proportion of tweets per airline is rather evenly split, except for Virgin America, which has the least, meaning they aren't as popular of an airline. Also based off of the word counter statistics, we can see that the word cancelled appeared 595 times, the word please appeared 325 times, and thanks appeared 587. I could assume that the word cancelled is referring to flights being cancelled, which is a negative thing, the word please meaning they are asking for something to be changed also being a negative thing, and thanks being from positive reviews. Just from this alone I can concur with just those keywords what the sentiment could be, which is a good sign for the model. Based off of the visualization, we can see that there tends to be much more negative sentiment towards airlines than positive or neutral ones, and also more neutral than positive, with Virgin America actually being rather split as they have less overall data. I believe that this is because if you have an alright or a good experience, people are less likely to feel a need to go to twitter to tweet about it, whereas if it is a very negative experience, you want to go tell everyone about it. Based on these things, we can make decent assumptions based off of just those 2 variables, but we still need to dive into the actual keywords used in those tweets for the model to be able to actually make accurate predictions on the data."
   ]
  },
  {
   "cell_type": "markdown",
   "metadata": {},
   "source": [
    "### Models"
   ]
  },
  {
   "cell_type": "code",
   "execution_count": 17,
   "metadata": {},
   "outputs": [
    {
     "name": "stdout",
     "output_type": "stream",
     "text": [
      "Fitting 3 folds for each of 72 candidates, totalling 216 fits\n",
      "[CV] END classifier__C=2.0, tfidf__max_features=4000, tfidf__min_df=2, tfidf__ngram_range=(1, 2); total time=   0.5s\n",
      "[CV] END classifier__C=2.0, tfidf__max_features=4000, tfidf__min_df=2, tfidf__ngram_range=(1, 2); total time=   0.7s\n",
      "[CV] END classifier__C=2.0, tfidf__max_features=4000, tfidf__min_df=2, tfidf__ngram_range=(1, 2); total time=   0.7s\n",
      "[CV] END classifier__C=2.0, tfidf__max_features=4000, tfidf__min_df=2, tfidf__ngram_range=(1, 3); total time=   0.7s\n",
      "[CV] END classifier__C=2.0, tfidf__max_features=4000, tfidf__min_df=2, tfidf__ngram_range=(1, 3); total time=   2.1s\n",
      "[CV] END classifier__C=2.0, tfidf__max_features=4000, tfidf__min_df=2, tfidf__ngram_range=(1, 3); total time=   0.9s\n",
      "[CV] END classifier__C=2.0, tfidf__max_features=4000, tfidf__min_df=3, tfidf__ngram_range=(1, 2); total time=   1.7s\n",
      "[CV] END classifier__C=2.0, tfidf__max_features=4000, tfidf__min_df=3, tfidf__ngram_range=(1, 2); total time=   0.7s\n",
      "[CV] END classifier__C=2.0, tfidf__max_features=4000, tfidf__min_df=3, tfidf__ngram_range=(1, 2); total time=   0.4s\n",
      "[CV] END classifier__C=2.0, tfidf__max_features=4000, tfidf__min_df=3, tfidf__ngram_range=(1, 3); total time=   1.0s\n",
      "[CV] END classifier__C=2.0, tfidf__max_features=4000, tfidf__min_df=3, tfidf__ngram_range=(1, 3); total time=   0.8s\n",
      "[CV] END classifier__C=2.0, tfidf__max_features=4000, tfidf__min_df=3, tfidf__ngram_range=(1, 3); total time=   0.8s\n",
      "[CV] END classifier__C=2.0, tfidf__max_features=4000, tfidf__min_df=4, tfidf__ngram_range=(1, 2); total time=   0.4s\n",
      "[CV] END classifier__C=2.0, tfidf__max_features=4000, tfidf__min_df=4, tfidf__ngram_range=(1, 2); total time=   0.5s\n",
      "[CV] END classifier__C=2.0, tfidf__max_features=4000, tfidf__min_df=4, tfidf__ngram_range=(1, 2); total time=   0.4s\n",
      "[CV] END classifier__C=2.0, tfidf__max_features=4000, tfidf__min_df=4, tfidf__ngram_range=(1, 3); total time=   0.8s\n",
      "[CV] END classifier__C=2.0, tfidf__max_features=4000, tfidf__min_df=4, tfidf__ngram_range=(1, 3); total time=   0.8s\n",
      "[CV] END classifier__C=2.0, tfidf__max_features=4000, tfidf__min_df=4, tfidf__ngram_range=(1, 3); total time=   0.7s\n",
      "[CV] END classifier__C=2.0, tfidf__max_features=4500, tfidf__min_df=2, tfidf__ngram_range=(1, 2); total time=   0.5s\n",
      "[CV] END classifier__C=2.0, tfidf__max_features=4500, tfidf__min_df=2, tfidf__ngram_range=(1, 2); total time=   0.5s\n",
      "[CV] END classifier__C=2.0, tfidf__max_features=4500, tfidf__min_df=2, tfidf__ngram_range=(1, 2); total time=   0.4s\n",
      "[CV] END classifier__C=2.0, tfidf__max_features=4500, tfidf__min_df=2, tfidf__ngram_range=(1, 3); total time=   0.7s\n",
      "[CV] END classifier__C=2.0, tfidf__max_features=4500, tfidf__min_df=2, tfidf__ngram_range=(1, 3); total time=   0.6s\n",
      "[CV] END classifier__C=2.0, tfidf__max_features=4500, tfidf__min_df=2, tfidf__ngram_range=(1, 3); total time=   0.6s\n",
      "[CV] END classifier__C=2.0, tfidf__max_features=4500, tfidf__min_df=3, tfidf__ngram_range=(1, 2); total time=   0.4s\n",
      "[CV] END classifier__C=2.0, tfidf__max_features=4500, tfidf__min_df=3, tfidf__ngram_range=(1, 2); total time=   0.4s\n",
      "[CV] END classifier__C=2.0, tfidf__max_features=4500, tfidf__min_df=3, tfidf__ngram_range=(1, 2); total time=   0.4s\n",
      "[CV] END classifier__C=2.0, tfidf__max_features=4500, tfidf__min_df=3, tfidf__ngram_range=(1, 3); total time=   0.6s\n",
      "[CV] END classifier__C=2.0, tfidf__max_features=4500, tfidf__min_df=3, tfidf__ngram_range=(1, 3); total time=   0.6s\n",
      "[CV] END classifier__C=2.0, tfidf__max_features=4500, tfidf__min_df=3, tfidf__ngram_range=(1, 3); total time=   0.6s\n",
      "[CV] END classifier__C=2.0, tfidf__max_features=4500, tfidf__min_df=4, tfidf__ngram_range=(1, 2); total time=   0.4s\n",
      "[CV] END classifier__C=2.0, tfidf__max_features=4500, tfidf__min_df=4, tfidf__ngram_range=(1, 2); total time=   0.4s\n",
      "[CV] END classifier__C=2.0, tfidf__max_features=4500, tfidf__min_df=4, tfidf__ngram_range=(1, 2); total time=   0.5s\n",
      "[CV] END classifier__C=2.0, tfidf__max_features=4500, tfidf__min_df=4, tfidf__ngram_range=(1, 3); total time=   0.6s\n",
      "[CV] END classifier__C=2.0, tfidf__max_features=4500, tfidf__min_df=4, tfidf__ngram_range=(1, 3); total time=   0.6s\n",
      "[CV] END classifier__C=2.0, tfidf__max_features=4500, tfidf__min_df=4, tfidf__ngram_range=(1, 3); total time=   0.5s\n",
      "[CV] END classifier__C=2.0, tfidf__max_features=5000, tfidf__min_df=2, tfidf__ngram_range=(1, 2); total time=   0.4s\n",
      "[CV] END classifier__C=2.0, tfidf__max_features=5000, tfidf__min_df=2, tfidf__ngram_range=(1, 2); total time=   0.4s\n",
      "[CV] END classifier__C=2.0, tfidf__max_features=5000, tfidf__min_df=2, tfidf__ngram_range=(1, 2); total time=   0.4s\n",
      "[CV] END classifier__C=2.0, tfidf__max_features=5000, tfidf__min_df=2, tfidf__ngram_range=(1, 3); total time=   0.6s\n",
      "[CV] END classifier__C=2.0, tfidf__max_features=5000, tfidf__min_df=2, tfidf__ngram_range=(1, 3); total time=   0.6s\n",
      "[CV] END classifier__C=2.0, tfidf__max_features=5000, tfidf__min_df=2, tfidf__ngram_range=(1, 3); total time=   0.6s\n",
      "[CV] END classifier__C=2.0, tfidf__max_features=5000, tfidf__min_df=3, tfidf__ngram_range=(1, 2); total time=   0.5s\n",
      "[CV] END classifier__C=2.0, tfidf__max_features=5000, tfidf__min_df=3, tfidf__ngram_range=(1, 2); total time=   0.6s\n",
      "[CV] END classifier__C=2.0, tfidf__max_features=5000, tfidf__min_df=3, tfidf__ngram_range=(1, 2); total time=   0.4s\n",
      "[CV] END classifier__C=2.0, tfidf__max_features=5000, tfidf__min_df=3, tfidf__ngram_range=(1, 3); total time=   0.7s\n",
      "[CV] END classifier__C=2.0, tfidf__max_features=5000, tfidf__min_df=3, tfidf__ngram_range=(1, 3); total time=   0.6s\n",
      "[CV] END classifier__C=2.0, tfidf__max_features=5000, tfidf__min_df=3, tfidf__ngram_range=(1, 3); total time=   0.6s\n",
      "[CV] END classifier__C=2.0, tfidf__max_features=5000, tfidf__min_df=4, tfidf__ngram_range=(1, 2); total time=   0.4s\n",
      "[CV] END classifier__C=2.0, tfidf__max_features=5000, tfidf__min_df=4, tfidf__ngram_range=(1, 2); total time=   0.4s\n",
      "[CV] END classifier__C=2.0, tfidf__max_features=5000, tfidf__min_df=4, tfidf__ngram_range=(1, 2); total time=   0.4s\n",
      "[CV] END classifier__C=2.0, tfidf__max_features=5000, tfidf__min_df=4, tfidf__ngram_range=(1, 3); total time=   0.7s\n",
      "[CV] END classifier__C=2.0, tfidf__max_features=5000, tfidf__min_df=4, tfidf__ngram_range=(1, 3); total time=   0.6s\n",
      "[CV] END classifier__C=2.0, tfidf__max_features=5000, tfidf__min_df=4, tfidf__ngram_range=(1, 3); total time=   0.7s\n",
      "[CV] END classifier__C=3.0, tfidf__max_features=4000, tfidf__min_df=2, tfidf__ngram_range=(1, 2); total time=   0.4s\n",
      "[CV] END classifier__C=3.0, tfidf__max_features=4000, tfidf__min_df=2, tfidf__ngram_range=(1, 2); total time=   0.5s\n",
      "[CV] END classifier__C=3.0, tfidf__max_features=4000, tfidf__min_df=2, tfidf__ngram_range=(1, 2); total time=   0.4s\n",
      "[CV] END classifier__C=3.0, tfidf__max_features=4000, tfidf__min_df=2, tfidf__ngram_range=(1, 3); total time=   0.6s\n",
      "[CV] END classifier__C=3.0, tfidf__max_features=4000, tfidf__min_df=2, tfidf__ngram_range=(1, 3); total time=   0.7s\n",
      "[CV] END classifier__C=3.0, tfidf__max_features=4000, tfidf__min_df=2, tfidf__ngram_range=(1, 3); total time=   0.6s\n",
      "[CV] END classifier__C=3.0, tfidf__max_features=4000, tfidf__min_df=3, tfidf__ngram_range=(1, 2); total time=   0.4s\n",
      "[CV] END classifier__C=3.0, tfidf__max_features=4000, tfidf__min_df=3, tfidf__ngram_range=(1, 2); total time=   0.4s\n",
      "[CV] END classifier__C=3.0, tfidf__max_features=4000, tfidf__min_df=3, tfidf__ngram_range=(1, 2); total time=   0.4s\n",
      "[CV] END classifier__C=3.0, tfidf__max_features=4000, tfidf__min_df=3, tfidf__ngram_range=(1, 3); total time=   0.6s\n",
      "[CV] END classifier__C=3.0, tfidf__max_features=4000, tfidf__min_df=3, tfidf__ngram_range=(1, 3); total time=   0.7s\n",
      "[CV] END classifier__C=3.0, tfidf__max_features=4000, tfidf__min_df=3, tfidf__ngram_range=(1, 3); total time=   0.6s\n",
      "[CV] END classifier__C=3.0, tfidf__max_features=4000, tfidf__min_df=4, tfidf__ngram_range=(1, 2); total time=   0.3s\n",
      "[CV] END classifier__C=3.0, tfidf__max_features=4000, tfidf__min_df=4, tfidf__ngram_range=(1, 2); total time=   0.4s\n",
      "[CV] END classifier__C=3.0, tfidf__max_features=4000, tfidf__min_df=4, tfidf__ngram_range=(1, 2); total time=   0.5s\n",
      "[CV] END classifier__C=3.0, tfidf__max_features=4000, tfidf__min_df=4, tfidf__ngram_range=(1, 3); total time=   0.8s\n",
      "[CV] END classifier__C=3.0, tfidf__max_features=4000, tfidf__min_df=4, tfidf__ngram_range=(1, 3); total time=   2.9s\n",
      "[CV] END classifier__C=3.0, tfidf__max_features=4000, tfidf__min_df=4, tfidf__ngram_range=(1, 3); total time=   1.8s\n",
      "[CV] END classifier__C=3.0, tfidf__max_features=4500, tfidf__min_df=2, tfidf__ngram_range=(1, 2); total time=   0.5s\n",
      "[CV] END classifier__C=3.0, tfidf__max_features=4500, tfidf__min_df=2, tfidf__ngram_range=(1, 2); total time=   0.5s\n",
      "[CV] END classifier__C=3.0, tfidf__max_features=4500, tfidf__min_df=2, tfidf__ngram_range=(1, 2); total time=   0.5s\n",
      "[CV] END classifier__C=3.0, tfidf__max_features=4500, tfidf__min_df=2, tfidf__ngram_range=(1, 3); total time=   0.6s\n",
      "[CV] END classifier__C=3.0, tfidf__max_features=4500, tfidf__min_df=2, tfidf__ngram_range=(1, 3); total time=   0.7s\n",
      "[CV] END classifier__C=3.0, tfidf__max_features=4500, tfidf__min_df=2, tfidf__ngram_range=(1, 3); total time=   0.7s\n",
      "[CV] END classifier__C=3.0, tfidf__max_features=4500, tfidf__min_df=3, tfidf__ngram_range=(1, 2); total time=   0.5s\n",
      "[CV] END classifier__C=3.0, tfidf__max_features=4500, tfidf__min_df=3, tfidf__ngram_range=(1, 2); total time=   0.5s\n",
      "[CV] END classifier__C=3.0, tfidf__max_features=4500, tfidf__min_df=3, tfidf__ngram_range=(1, 2); total time=   3.0s\n",
      "[CV] END classifier__C=3.0, tfidf__max_features=4500, tfidf__min_df=3, tfidf__ngram_range=(1, 3); total time=   3.0s\n",
      "[CV] END classifier__C=3.0, tfidf__max_features=4500, tfidf__min_df=3, tfidf__ngram_range=(1, 3); total time=   1.6s\n",
      "[CV] END classifier__C=3.0, tfidf__max_features=4500, tfidf__min_df=3, tfidf__ngram_range=(1, 3); total time=   2.2s\n",
      "[CV] END classifier__C=3.0, tfidf__max_features=4500, tfidf__min_df=4, tfidf__ngram_range=(1, 2); total time=   2.0s\n",
      "[CV] END classifier__C=3.0, tfidf__max_features=4500, tfidf__min_df=4, tfidf__ngram_range=(1, 2); total time=   2.7s\n",
      "[CV] END classifier__C=3.0, tfidf__max_features=4500, tfidf__min_df=4, tfidf__ngram_range=(1, 2); total time=   2.4s\n",
      "[CV] END classifier__C=3.0, tfidf__max_features=4500, tfidf__min_df=4, tfidf__ngram_range=(1, 3); total time=   1.2s\n",
      "[CV] END classifier__C=3.0, tfidf__max_features=4500, tfidf__min_df=4, tfidf__ngram_range=(1, 3); total time=   0.9s\n",
      "[CV] END classifier__C=3.0, tfidf__max_features=4500, tfidf__min_df=4, tfidf__ngram_range=(1, 3); total time=   2.4s\n",
      "[CV] END classifier__C=3.0, tfidf__max_features=5000, tfidf__min_df=2, tfidf__ngram_range=(1, 2); total time=   0.8s\n",
      "[CV] END classifier__C=3.0, tfidf__max_features=5000, tfidf__min_df=2, tfidf__ngram_range=(1, 2); total time=   0.8s\n",
      "[CV] END classifier__C=3.0, tfidf__max_features=5000, tfidf__min_df=2, tfidf__ngram_range=(1, 2); total time=   0.5s\n",
      "[CV] END classifier__C=3.0, tfidf__max_features=5000, tfidf__min_df=2, tfidf__ngram_range=(1, 3); total time=   0.9s\n",
      "[CV] END classifier__C=3.0, tfidf__max_features=5000, tfidf__min_df=2, tfidf__ngram_range=(1, 3); total time=   0.8s\n",
      "[CV] END classifier__C=3.0, tfidf__max_features=5000, tfidf__min_df=2, tfidf__ngram_range=(1, 3); total time=   0.6s\n",
      "[CV] END classifier__C=3.0, tfidf__max_features=5000, tfidf__min_df=3, tfidf__ngram_range=(1, 2); total time=   0.5s\n",
      "[CV] END classifier__C=3.0, tfidf__max_features=5000, tfidf__min_df=3, tfidf__ngram_range=(1, 2); total time=   0.6s\n",
      "[CV] END classifier__C=3.0, tfidf__max_features=5000, tfidf__min_df=3, tfidf__ngram_range=(1, 2); total time=   0.5s\n",
      "[CV] END classifier__C=3.0, tfidf__max_features=5000, tfidf__min_df=3, tfidf__ngram_range=(1, 3); total time=   0.7s\n",
      "[CV] END classifier__C=3.0, tfidf__max_features=5000, tfidf__min_df=3, tfidf__ngram_range=(1, 3); total time=   0.9s\n",
      "[CV] END classifier__C=3.0, tfidf__max_features=5000, tfidf__min_df=3, tfidf__ngram_range=(1, 3); total time=   0.8s\n",
      "[CV] END classifier__C=3.0, tfidf__max_features=5000, tfidf__min_df=4, tfidf__ngram_range=(1, 2); total time=   1.7s\n",
      "[CV] END classifier__C=3.0, tfidf__max_features=5000, tfidf__min_df=4, tfidf__ngram_range=(1, 2); total time=   0.5s\n",
      "[CV] END classifier__C=3.0, tfidf__max_features=5000, tfidf__min_df=4, tfidf__ngram_range=(1, 2); total time=   0.5s\n",
      "[CV] END classifier__C=3.0, tfidf__max_features=5000, tfidf__min_df=4, tfidf__ngram_range=(1, 3); total time=   1.1s\n",
      "[CV] END classifier__C=3.0, tfidf__max_features=5000, tfidf__min_df=4, tfidf__ngram_range=(1, 3); total time=   0.9s\n",
      "[CV] END classifier__C=3.0, tfidf__max_features=5000, tfidf__min_df=4, tfidf__ngram_range=(1, 3); total time=   0.7s\n",
      "[CV] END classifier__C=3.5, tfidf__max_features=4000, tfidf__min_df=2, tfidf__ngram_range=(1, 2); total time=   0.5s\n",
      "[CV] END classifier__C=3.5, tfidf__max_features=4000, tfidf__min_df=2, tfidf__ngram_range=(1, 2); total time=   0.8s\n",
      "[CV] END classifier__C=3.5, tfidf__max_features=4000, tfidf__min_df=2, tfidf__ngram_range=(1, 2); total time=   1.3s\n",
      "[CV] END classifier__C=3.5, tfidf__max_features=4000, tfidf__min_df=2, tfidf__ngram_range=(1, 3); total time=   1.1s\n",
      "[CV] END classifier__C=3.5, tfidf__max_features=4000, tfidf__min_df=2, tfidf__ngram_range=(1, 3); total time=   0.8s\n",
      "[CV] END classifier__C=3.5, tfidf__max_features=4000, tfidf__min_df=2, tfidf__ngram_range=(1, 3); total time=   0.9s\n",
      "[CV] END classifier__C=3.5, tfidf__max_features=4000, tfidf__min_df=3, tfidf__ngram_range=(1, 2); total time=   0.6s\n",
      "[CV] END classifier__C=3.5, tfidf__max_features=4000, tfidf__min_df=3, tfidf__ngram_range=(1, 2); total time=   0.6s\n",
      "[CV] END classifier__C=3.5, tfidf__max_features=4000, tfidf__min_df=3, tfidf__ngram_range=(1, 2); total time=   0.5s\n",
      "[CV] END classifier__C=3.5, tfidf__max_features=4000, tfidf__min_df=3, tfidf__ngram_range=(1, 3); total time=   1.2s\n",
      "[CV] END classifier__C=3.5, tfidf__max_features=4000, tfidf__min_df=3, tfidf__ngram_range=(1, 3); total time=   0.7s\n",
      "[CV] END classifier__C=3.5, tfidf__max_features=4000, tfidf__min_df=3, tfidf__ngram_range=(1, 3); total time=   0.7s\n",
      "[CV] END classifier__C=3.5, tfidf__max_features=4000, tfidf__min_df=4, tfidf__ngram_range=(1, 2); total time=   0.5s\n",
      "[CV] END classifier__C=3.5, tfidf__max_features=4000, tfidf__min_df=4, tfidf__ngram_range=(1, 2); total time=   2.2s\n",
      "[CV] END classifier__C=3.5, tfidf__max_features=4000, tfidf__min_df=4, tfidf__ngram_range=(1, 2); total time=   0.6s\n",
      "[CV] END classifier__C=3.5, tfidf__max_features=4000, tfidf__min_df=4, tfidf__ngram_range=(1, 3); total time=   0.9s\n",
      "[CV] END classifier__C=3.5, tfidf__max_features=4000, tfidf__min_df=4, tfidf__ngram_range=(1, 3); total time=   0.9s\n",
      "[CV] END classifier__C=3.5, tfidf__max_features=4000, tfidf__min_df=4, tfidf__ngram_range=(1, 3); total time=   0.9s\n",
      "[CV] END classifier__C=3.5, tfidf__max_features=4500, tfidf__min_df=2, tfidf__ngram_range=(1, 2); total time=   0.5s\n",
      "[CV] END classifier__C=3.5, tfidf__max_features=4500, tfidf__min_df=2, tfidf__ngram_range=(1, 2); total time=   0.4s\n",
      "[CV] END classifier__C=3.5, tfidf__max_features=4500, tfidf__min_df=2, tfidf__ngram_range=(1, 2); total time=   0.4s\n",
      "[CV] END classifier__C=3.5, tfidf__max_features=4500, tfidf__min_df=2, tfidf__ngram_range=(1, 3); total time=   0.7s\n",
      "[CV] END classifier__C=3.5, tfidf__max_features=4500, tfidf__min_df=2, tfidf__ngram_range=(1, 3); total time=   0.6s\n",
      "[CV] END classifier__C=3.5, tfidf__max_features=4500, tfidf__min_df=2, tfidf__ngram_range=(1, 3); total time=   0.7s\n",
      "[CV] END classifier__C=3.5, tfidf__max_features=4500, tfidf__min_df=3, tfidf__ngram_range=(1, 2); total time=   0.8s\n",
      "[CV] END classifier__C=3.5, tfidf__max_features=4500, tfidf__min_df=3, tfidf__ngram_range=(1, 2); total time=   0.7s\n",
      "[CV] END classifier__C=3.5, tfidf__max_features=4500, tfidf__min_df=3, tfidf__ngram_range=(1, 2); total time=   0.7s\n",
      "[CV] END classifier__C=3.5, tfidf__max_features=4500, tfidf__min_df=3, tfidf__ngram_range=(1, 3); total time=   1.2s\n",
      "[CV] END classifier__C=3.5, tfidf__max_features=4500, tfidf__min_df=3, tfidf__ngram_range=(1, 3); total time=   0.7s\n",
      "[CV] END classifier__C=3.5, tfidf__max_features=4500, tfidf__min_df=3, tfidf__ngram_range=(1, 3); total time=   0.7s\n",
      "[CV] END classifier__C=3.5, tfidf__max_features=4500, tfidf__min_df=4, tfidf__ngram_range=(1, 2); total time=   0.5s\n",
      "[CV] END classifier__C=3.5, tfidf__max_features=4500, tfidf__min_df=4, tfidf__ngram_range=(1, 2); total time=   0.5s\n",
      "[CV] END classifier__C=3.5, tfidf__max_features=4500, tfidf__min_df=4, tfidf__ngram_range=(1, 2); total time=   1.0s\n",
      "[CV] END classifier__C=3.5, tfidf__max_features=4500, tfidf__min_df=4, tfidf__ngram_range=(1, 3); total time=   1.4s\n",
      "[CV] END classifier__C=3.5, tfidf__max_features=4500, tfidf__min_df=4, tfidf__ngram_range=(1, 3); total time=   0.7s\n",
      "[CV] END classifier__C=3.5, tfidf__max_features=4500, tfidf__min_df=4, tfidf__ngram_range=(1, 3); total time=   0.9s\n",
      "[CV] END classifier__C=3.5, tfidf__max_features=5000, tfidf__min_df=2, tfidf__ngram_range=(1, 2); total time=   0.7s\n",
      "[CV] END classifier__C=3.5, tfidf__max_features=5000, tfidf__min_df=2, tfidf__ngram_range=(1, 2); total time=   0.5s\n",
      "[CV] END classifier__C=3.5, tfidf__max_features=5000, tfidf__min_df=2, tfidf__ngram_range=(1, 2); total time=   0.8s\n",
      "[CV] END classifier__C=3.5, tfidf__max_features=5000, tfidf__min_df=2, tfidf__ngram_range=(1, 3); total time=   1.0s\n",
      "[CV] END classifier__C=3.5, tfidf__max_features=5000, tfidf__min_df=2, tfidf__ngram_range=(1, 3); total time=   1.3s\n",
      "[CV] END classifier__C=3.5, tfidf__max_features=5000, tfidf__min_df=2, tfidf__ngram_range=(1, 3); total time=   1.6s\n",
      "[CV] END classifier__C=3.5, tfidf__max_features=5000, tfidf__min_df=3, tfidf__ngram_range=(1, 2); total time=   0.9s\n",
      "[CV] END classifier__C=3.5, tfidf__max_features=5000, tfidf__min_df=3, tfidf__ngram_range=(1, 2); total time=   0.7s\n",
      "[CV] END classifier__C=3.5, tfidf__max_features=5000, tfidf__min_df=3, tfidf__ngram_range=(1, 2); total time=   0.4s\n",
      "[CV] END classifier__C=3.5, tfidf__max_features=5000, tfidf__min_df=3, tfidf__ngram_range=(1, 3); total time=   0.8s\n",
      "[CV] END classifier__C=3.5, tfidf__max_features=5000, tfidf__min_df=3, tfidf__ngram_range=(1, 3); total time=   0.9s\n",
      "[CV] END classifier__C=3.5, tfidf__max_features=5000, tfidf__min_df=3, tfidf__ngram_range=(1, 3); total time=   0.9s\n",
      "[CV] END classifier__C=3.5, tfidf__max_features=5000, tfidf__min_df=4, tfidf__ngram_range=(1, 2); total time=   0.6s\n",
      "[CV] END classifier__C=3.5, tfidf__max_features=5000, tfidf__min_df=4, tfidf__ngram_range=(1, 2); total time=   1.7s\n",
      "[CV] END classifier__C=3.5, tfidf__max_features=5000, tfidf__min_df=4, tfidf__ngram_range=(1, 2); total time=   0.5s\n",
      "[CV] END classifier__C=3.5, tfidf__max_features=5000, tfidf__min_df=4, tfidf__ngram_range=(1, 3); total time=   0.8s\n",
      "[CV] END classifier__C=3.5, tfidf__max_features=5000, tfidf__min_df=4, tfidf__ngram_range=(1, 3); total time=   0.7s\n",
      "[CV] END classifier__C=3.5, tfidf__max_features=5000, tfidf__min_df=4, tfidf__ngram_range=(1, 3); total time=   0.7s\n",
      "[CV] END classifier__C=4.0, tfidf__max_features=4000, tfidf__min_df=2, tfidf__ngram_range=(1, 2); total time=   0.5s\n",
      "[CV] END classifier__C=4.0, tfidf__max_features=4000, tfidf__min_df=2, tfidf__ngram_range=(1, 2); total time=   0.6s\n",
      "[CV] END classifier__C=4.0, tfidf__max_features=4000, tfidf__min_df=2, tfidf__ngram_range=(1, 2); total time=   1.5s\n",
      "[CV] END classifier__C=4.0, tfidf__max_features=4000, tfidf__min_df=2, tfidf__ngram_range=(1, 3); total time=   1.5s\n",
      "[CV] END classifier__C=4.0, tfidf__max_features=4000, tfidf__min_df=2, tfidf__ngram_range=(1, 3); total time=   1.3s\n",
      "[CV] END classifier__C=4.0, tfidf__max_features=4000, tfidf__min_df=2, tfidf__ngram_range=(1, 3); total time=   0.9s\n",
      "[CV] END classifier__C=4.0, tfidf__max_features=4000, tfidf__min_df=3, tfidf__ngram_range=(1, 2); total time=   0.6s\n",
      "[CV] END classifier__C=4.0, tfidf__max_features=4000, tfidf__min_df=3, tfidf__ngram_range=(1, 2); total time=   0.6s\n",
      "[CV] END classifier__C=4.0, tfidf__max_features=4000, tfidf__min_df=3, tfidf__ngram_range=(1, 2); total time=   2.3s\n",
      "[CV] END classifier__C=4.0, tfidf__max_features=4000, tfidf__min_df=3, tfidf__ngram_range=(1, 3); total time=   1.0s\n",
      "[CV] END classifier__C=4.0, tfidf__max_features=4000, tfidf__min_df=3, tfidf__ngram_range=(1, 3); total time=   0.7s\n",
      "[CV] END classifier__C=4.0, tfidf__max_features=4000, tfidf__min_df=3, tfidf__ngram_range=(1, 3); total time=   1.0s\n",
      "[CV] END classifier__C=4.0, tfidf__max_features=4000, tfidf__min_df=4, tfidf__ngram_range=(1, 2); total time=   1.2s\n",
      "[CV] END classifier__C=4.0, tfidf__max_features=4000, tfidf__min_df=4, tfidf__ngram_range=(1, 2); total time=   0.8s\n",
      "[CV] END classifier__C=4.0, tfidf__max_features=4000, tfidf__min_df=4, tfidf__ngram_range=(1, 2); total time=   0.6s\n",
      "[CV] END classifier__C=4.0, tfidf__max_features=4000, tfidf__min_df=4, tfidf__ngram_range=(1, 3); total time=   1.2s\n",
      "[CV] END classifier__C=4.0, tfidf__max_features=4000, tfidf__min_df=4, tfidf__ngram_range=(1, 3); total time=   0.7s\n",
      "[CV] END classifier__C=4.0, tfidf__max_features=4000, tfidf__min_df=4, tfidf__ngram_range=(1, 3); total time=   1.7s\n",
      "[CV] END classifier__C=4.0, tfidf__max_features=4500, tfidf__min_df=2, tfidf__ngram_range=(1, 2); total time=   0.7s\n",
      "[CV] END classifier__C=4.0, tfidf__max_features=4500, tfidf__min_df=2, tfidf__ngram_range=(1, 2); total time=   1.1s\n",
      "[CV] END classifier__C=4.0, tfidf__max_features=4500, tfidf__min_df=2, tfidf__ngram_range=(1, 2); total time=   0.7s\n",
      "[CV] END classifier__C=4.0, tfidf__max_features=4500, tfidf__min_df=2, tfidf__ngram_range=(1, 3); total time=   1.1s\n",
      "[CV] END classifier__C=4.0, tfidf__max_features=4500, tfidf__min_df=2, tfidf__ngram_range=(1, 3); total time=   1.0s\n",
      "[CV] END classifier__C=4.0, tfidf__max_features=4500, tfidf__min_df=2, tfidf__ngram_range=(1, 3); total time=   0.7s\n",
      "[CV] END classifier__C=4.0, tfidf__max_features=4500, tfidf__min_df=3, tfidf__ngram_range=(1, 2); total time=   0.5s\n",
      "[CV] END classifier__C=4.0, tfidf__max_features=4500, tfidf__min_df=3, tfidf__ngram_range=(1, 2); total time=   0.5s\n",
      "[CV] END classifier__C=4.0, tfidf__max_features=4500, tfidf__min_df=3, tfidf__ngram_range=(1, 2); total time=   1.5s\n",
      "[CV] END classifier__C=4.0, tfidf__max_features=4500, tfidf__min_df=3, tfidf__ngram_range=(1, 3); total time=   0.8s\n",
      "[CV] END classifier__C=4.0, tfidf__max_features=4500, tfidf__min_df=3, tfidf__ngram_range=(1, 3); total time=   0.8s\n",
      "[CV] END classifier__C=4.0, tfidf__max_features=4500, tfidf__min_df=3, tfidf__ngram_range=(1, 3); total time=   0.7s\n",
      "[CV] END classifier__C=4.0, tfidf__max_features=4500, tfidf__min_df=4, tfidf__ngram_range=(1, 2); total time=   0.5s\n",
      "[CV] END classifier__C=4.0, tfidf__max_features=4500, tfidf__min_df=4, tfidf__ngram_range=(1, 2); total time=   0.4s\n",
      "[CV] END classifier__C=4.0, tfidf__max_features=4500, tfidf__min_df=4, tfidf__ngram_range=(1, 2); total time=   0.5s\n",
      "[CV] END classifier__C=4.0, tfidf__max_features=4500, tfidf__min_df=4, tfidf__ngram_range=(1, 3); total time=   0.7s\n",
      "[CV] END classifier__C=4.0, tfidf__max_features=4500, tfidf__min_df=4, tfidf__ngram_range=(1, 3); total time=   0.8s\n",
      "[CV] END classifier__C=4.0, tfidf__max_features=4500, tfidf__min_df=4, tfidf__ngram_range=(1, 3); total time=   1.1s\n",
      "[CV] END classifier__C=4.0, tfidf__max_features=5000, tfidf__min_df=2, tfidf__ngram_range=(1, 2); total time=   0.5s\n",
      "[CV] END classifier__C=4.0, tfidf__max_features=5000, tfidf__min_df=2, tfidf__ngram_range=(1, 2); total time=   0.5s\n",
      "[CV] END classifier__C=4.0, tfidf__max_features=5000, tfidf__min_df=2, tfidf__ngram_range=(1, 2); total time=   0.5s\n",
      "[CV] END classifier__C=4.0, tfidf__max_features=5000, tfidf__min_df=2, tfidf__ngram_range=(1, 3); total time=   0.6s\n",
      "[CV] END classifier__C=4.0, tfidf__max_features=5000, tfidf__min_df=2, tfidf__ngram_range=(1, 3); total time=   0.7s\n",
      "[CV] END classifier__C=4.0, tfidf__max_features=5000, tfidf__min_df=2, tfidf__ngram_range=(1, 3); total time=   0.6s\n",
      "[CV] END classifier__C=4.0, tfidf__max_features=5000, tfidf__min_df=3, tfidf__ngram_range=(1, 2); total time=   0.4s\n",
      "[CV] END classifier__C=4.0, tfidf__max_features=5000, tfidf__min_df=3, tfidf__ngram_range=(1, 2); total time=   0.8s\n",
      "[CV] END classifier__C=4.0, tfidf__max_features=5000, tfidf__min_df=3, tfidf__ngram_range=(1, 2); total time=   0.5s\n",
      "[CV] END classifier__C=4.0, tfidf__max_features=5000, tfidf__min_df=3, tfidf__ngram_range=(1, 3); total time=   0.8s\n",
      "[CV] END classifier__C=4.0, tfidf__max_features=5000, tfidf__min_df=3, tfidf__ngram_range=(1, 3); total time=   0.7s\n",
      "[CV] END classifier__C=4.0, tfidf__max_features=5000, tfidf__min_df=3, tfidf__ngram_range=(1, 3); total time=   0.6s\n",
      "[CV] END classifier__C=4.0, tfidf__max_features=5000, tfidf__min_df=4, tfidf__ngram_range=(1, 2); total time=   0.4s\n",
      "[CV] END classifier__C=4.0, tfidf__max_features=5000, tfidf__min_df=4, tfidf__ngram_range=(1, 2); total time=   0.4s\n",
      "[CV] END classifier__C=4.0, tfidf__max_features=5000, tfidf__min_df=4, tfidf__ngram_range=(1, 2); total time=   0.4s\n",
      "[CV] END classifier__C=4.0, tfidf__max_features=5000, tfidf__min_df=4, tfidf__ngram_range=(1, 3); total time=   0.8s\n",
      "[CV] END classifier__C=4.0, tfidf__max_features=5000, tfidf__min_df=4, tfidf__ngram_range=(1, 3); total time=   0.7s\n",
      "[CV] END classifier__C=4.0, tfidf__max_features=5000, tfidf__min_df=4, tfidf__ngram_range=(1, 3); total time=   0.7s\n",
      "Best parameters: {'classifier__C': 2.0, 'tfidf__max_features': 4500, 'tfidf__min_df': 3, 'tfidf__ngram_range': (1, 2)}\n",
      "Best cross-validation accuracy: 0.7837279902853673\n"
     ]
    }
   ],
   "source": [
    "# train models\n",
    "from sklearn.feature_extraction.text import TfidfVectorizer\n",
    "\n",
    "# create pipeline, preprocess then classify\n",
    "pipeline = Pipeline(\n",
    "    steps=[\n",
    "        (\"tfidf\", TfidfVectorizer()),\n",
    "        (\"classifier\", LogisticRegression(max_iter=250)),\n",
    "    ]\n",
    ")\n",
    "\n",
    "# define parameter grid\n",
    "param_grid = {\n",
    "    \"classifier__C\": [2.0, 3.0, 3.5, 4.0],\n",
    "    'tfidf__max_features': [4000, 4500, 5000],\n",
    "    'tfidf__ngram_range': [(1, 2), (1,3)],\n",
    "    'tfidf__min_df': [2, 3, 4],\n",
    "    }\n",
    "\n",
    "# # setup grid search with cross-validation\n",
    "grid_search = GridSearchCV(pipeline, param_grid, cv=3, scoring=\"accuracy\", verbose = 2)\n",
    "\n",
    "# run grid search with cross-validation\n",
    "grid_search.fit(X_train, y_train)\n",
    "\n",
    "# print best parameters found and best (cross-validated) score\n",
    "print(f\"Best parameters: {grid_search.best_params_}\")\n",
    "print(f\"Best cross-validation accuracy: {grid_search.best_score_}\")"
   ]
  },
  {
   "cell_type": "markdown",
   "metadata": {},
   "source": [
    "Here I used a pipeline and a grid search cross validation to find the best possible parameters for this model, using a Logistic Regression model. I found that the best C was 2.0, the best tfidf max features was 4500, the best tfidf min df was 3, and that the best tfidf ngram range was (1, 2) to get the best results. From this I revieved a cross validation accuracy of .784, which is solid but definitely not perfect."
   ]
  },
  {
   "cell_type": "markdown",
   "metadata": {},
   "source": [
    "## Results"
   ]
  },
  {
   "cell_type": "code",
   "execution_count": 18,
   "metadata": {},
   "outputs": [
    {
     "name": "stdout",
     "output_type": "stream",
     "text": [
      "0.7959927140255009\n"
     ]
    }
   ],
   "source": [
    "# report model metrics\n",
    "y_pred = grid_search.best_estimator_.predict(X_test)\n",
    "test_accruacy = (y_pred == y_test).mean()\n",
    "print(test_accruacy)"
   ]
  },
  {
   "cell_type": "markdown",
   "metadata": {},
   "source": [
    "Here we can see that on the test set, the model had an accuracy of .796, on data it has never seen before, which is definitely good, but not amazing."
   ]
  },
  {
   "cell_type": "code",
   "execution_count": 19,
   "metadata": {},
   "outputs": [
    {
     "data": {
      "text/plain": [
       "['airline-sentiment.joblib']"
      ]
     },
     "execution_count": 19,
     "metadata": {},
     "output_type": "execute_result"
    }
   ],
   "source": [
    "from joblib import dump\n",
    "dump(grid_search, \"airline-sentiment.joblib\")"
   ]
  },
  {
   "cell_type": "markdown",
   "metadata": {},
   "source": [
    "## Discussion"
   ]
  },
  {
   "cell_type": "markdown",
   "metadata": {},
   "source": [
    "After receiving a test set accuracy of .796, I can say that this model definitely is solid, but also could be improved further to receieve a higher accuracy score. It could be used for real life responses to tweets, as they are not life-threatening or anything, but if you could some false positives, and replied a thank you to a negative comment about your airline, it would be a very bad look for the airline, so it should be refined before being put to use.\n",
    "\n",
    "Again, some potential mistakes the model could make are replying automatic responses to negative comments, which are only meant for postive comments. A false negative wouldn't be as bad, as simply the comment would be alert the airline, and they could read and see that it is actually a positive comment. If on the other hand, a negative comment receives an automatic reply instead of alerting the airline, it could have some serious consequences. Assuming that the automatic response is similar to \"Thank you for the kind words\" or in that realm of a reply, then it would show a very bad look for the company. It would seem to users of twitter that the company doesn't care for their customers, and doesn't even take the time to review negative comments, and instead just send automatic replies. This could result in severe backlash, and a decline in usage of that airline.\n",
    "\n"
   ]
  },
  {
   "cell_type": "markdown",
   "metadata": {},
   "source": [
    "### Conclusion"
   ]
  },
  {
   "cell_type": "markdown",
   "metadata": {},
   "source": [
    "To conclude, given the high but not perfect accuracy of .796, I would not yet recommend this model for usage in the real world. It definitely is a solid mode, but there is still too much risk of false postive messages, that could result in some serious backlash. Obviously this is not a life or death type scenario, but it could definitely negatively impact the airline's business, if a negative tweet was disregarded. I believe this model could definitely still be improved, possibly by refining the text processing, or using a better model for the predictions. If the text processing was more refined, the model might possibly be able to make better predictions from tweets, but always there are some things AI can not pick up on from human tweets, possibly even sarcasm."
   ]
  }
 ],
 "metadata": {
  "kernelspec": {
   "display_name": "Python 3",
   "language": "python",
   "name": "python3"
  },
  "language_info": {
   "codemirror_mode": {
    "name": "ipython",
    "version": 3
   },
   "file_extension": ".py",
   "mimetype": "text/x-python",
   "name": "python",
   "nbconvert_exporter": "python",
   "pygments_lexer": "ipython3",
   "version": "3.12.1"
  }
 },
 "nbformat": 4,
 "nbformat_minor": 2
}
